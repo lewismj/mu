{
 "cells": [
  {
   "metadata": {},
   "cell_type": "markdown",
   "source": [
    "# Optional Lab - Derivatives\n",
    "This lab will give you a more intuitive understanding of derivatives. It will show you a simple way of calculating derivatives arithmetically. It will also introduce you to a handy Python library that allows you to calculate derivatives symbolically."
   ],
   "id": "baeb7217b109fea6"
  },
  {
   "cell_type": "code",
   "metadata": {
    "ExecuteTime": {
     "end_time": "2024-11-17T15:24:45.771188Z",
     "start_time": "2024-11-17T15:24:45.758194Z"
    }
   },
   "source": [
    "from sympy import symbols, diff"
   ],
   "id": "15c0d71a5960a1d1",
   "outputs": [],
   "execution_count": 27
  },
  {
   "cell_type": "markdown",
   "metadata": {},
   "source": [
    "## Informal definition of derivatives"
   ],
   "id": "c576d0cdf88d5563"
  },
  {
   "cell_type": "markdown",
   "metadata": {},
   "source": [
    "The formal definition of derivatives can be a bit daunting with limits and values 'going to zero'. The idea is really much simpler. \n",
    "\n",
    "The derivative of a function describes how the output of a function changes when there is a small change in an input variable.\n",
    "\n",
    "Let's use the cost function $J(w)$ as an example. The cost $J$ is the output and $w$ is the input variable.  \n",
    "Let's give a 'small change' a name *epsilon* or $\\epsilon$. We use these Greek letters because it is traditional in mathematics to use *epsilon*($\\epsilon$) or *delta* ($\\Delta$) to represent a small value. You can think of it as representing 0.001 or some other small value.  \n",
    "\n",
    "$$\n",
    "\\begin{equation}\n",
    "\\text{if } w \\uparrow \\epsilon \\text{ causes }J(w) \\uparrow \\text{by }k \\times \\epsilon \\text{ then}  \\\\\n",
    "\\frac{\\partial J(w)}{\\partial w} = k \\tag{1}\n",
    "\\end{equation}\n",
    "$$\n",
    "\n",
    "This just says if you change the input to the function $J(w)$ by a little bit and the output changes by $k$ times that little bit, then the derivative of $J(w)$ is equal to $k$.\n",
    "\n",
    "Let's try this out.  Let's look at the derivative of the function $J(w) = w^2$ at the point $w=3$ and $\\epsilon = 0.001$"
   ],
   "id": "dbcc6f98bc235ab4"
  },
  {
   "cell_type": "code",
   "metadata": {
    "ExecuteTime": {
     "end_time": "2024-11-17T15:24:45.786187Z",
     "start_time": "2024-11-17T15:24:45.781188Z"
    }
   },
   "source": [
    "J = (3)**2\n",
    "J_epsilon = (3 + 0.001)**2\n",
    "k = (J_epsilon - J)/0.001    # difference divided by epsilon\n",
    "print(f\"J = {J}, J_epsilon = {J_epsilon}, dJ_dw ~= k = {k:0.6f} \")"
   ],
   "id": "8b90a7ca28d614bb",
   "outputs": [
    {
     "name": "stdout",
     "output_type": "stream",
     "text": [
      "J = 9, J_epsilon = 9.006001, dJ_dw ~= k = 6.001000 \n"
     ]
    }
   ],
   "execution_count": 28
  },
  {
   "cell_type": "markdown",
   "metadata": {},
   "source": [
    "We have increased the input value a little bit (0.001), causing the output to change from 9 to 9.006001, an increase of 6 times the input increase. Referencing (1) above, this says that $k=6$, so $\\frac{\\partial J(w)}{\\partial w} \\approx 6$. If you are familiar with calculus, you know, written symbolically,  $\\frac{\\partial J(w)}{\\partial w} = 2 w$. With $w=3$ this is 6. Our calculation above is not exactly 6 because to be exactly correct $\\epsilon$ would need to be [infinitesimally small](https://www.dictionary.com/browse/infinitesimally) or really, really small. That is why we use the symbols $\\approx$ or ~= rather than =. Let's see what happens if we make $\\epsilon$ smaller."
   ],
   "id": "685a0430d42db742"
  },
  {
   "cell_type": "code",
   "metadata": {
    "ExecuteTime": {
     "end_time": "2024-11-17T15:24:45.848187Z",
     "start_time": "2024-11-17T15:24:45.831195Z"
    }
   },
   "source": [
    "J = (3)**2\n",
    "J_epsilon = (3 + 0.000000001)**2\n",
    "k = (J_epsilon - J)/0.000000001\n",
    "print(f\"J = {J}, J_epsilon = {J_epsilon}, dJ_dw ~= k = {k} \")"
   ],
   "id": "c3e656ccc7e0aa5f",
   "outputs": [
    {
     "name": "stdout",
     "output_type": "stream",
     "text": [
      "J = 9, J_epsilon = 9.000000006, dJ_dw ~= k = 6.000000496442226 \n"
     ]
    }
   ],
   "execution_count": 29
  },
  {
   "cell_type": "markdown",
   "metadata": {},
   "source": [
    "The value gets close to exactly 6 as we reduce the size of $\\epsilon$. Feel free to try reducing the value further."
   ],
   "id": "cdfa651d43e0ef3c"
  },
  {
   "cell_type": "markdown",
   "metadata": {},
   "source": [
    "## Finding symbolic derivatives\n",
    "In backprop it is useful to know the derivative of simple functions at any input value. Put another way, we would like to know the 'symbolic' derivative rather than the 'arithmetic' derivative. An example of a symbolic derivative is,  $\\frac{\\partial J(w)}{\\partial w} = 2 w$, the derivative of $J(w) = w^2$ above.  With the symbolic derivative you can find the value of the derivative at any input value $w$.  \n",
    "\n",
    "If you have taken a calculus course, you are familiar with the many [differentiation rules](https://en.wikipedia.org/wiki/Differentiation_rules#Power_laws,_polynomials,_quotients,_and_reciprocals) that mathematicians have developed to solve for a derivative given an expression. Well, it turns out this process has been automated with symbolic differentiation programs. An example of this in python is the [SymPy](https://www.sympy.org/en/index.html) library. Let's take a look at how to use this."
   ],
   "id": "2e8a7c8448267b4c"
  },
  {
   "cell_type": "markdown",
   "metadata": {},
   "source": [
    "### $J = w^2$\n",
    "Define the python variables and their symbolic names."
   ],
   "id": "e7d1f215748ad120"
  },
  {
   "cell_type": "code",
   "metadata": {
    "ExecuteTime": {
     "end_time": "2024-11-17T15:24:45.880196Z",
     "start_time": "2024-11-17T15:24:45.865203Z"
    }
   },
   "source": [
    "J, w = symbols('J, w')"
   ],
   "id": "28f8049cca39ffea",
   "outputs": [],
   "execution_count": 30
  },
  {
   "cell_type": "markdown",
   "metadata": {},
   "source": [
    "Define and print the expression. Note SymPy produces a [latex](https://en.wikibooks.org/wiki/LaTeX/Mathematics) string which generates a nicely readable equation."
   ],
   "id": "51a87fe85fc52762"
  },
  {
   "cell_type": "code",
   "metadata": {
    "ExecuteTime": {
     "end_time": "2024-11-17T15:24:45.928186Z",
     "start_time": "2024-11-17T15:24:45.914200Z"
    }
   },
   "source": [
    "J=w**2\n",
    "J"
   ],
   "id": "607a6c1046c1de01",
   "outputs": [
    {
     "data": {
      "text/plain": [
       "w**2"
      ],
      "text/latex": "$\\displaystyle w^{2}$"
     },
     "execution_count": 31,
     "metadata": {},
     "output_type": "execute_result"
    }
   ],
   "execution_count": 31
  },
  {
   "cell_type": "markdown",
   "metadata": {},
   "source": [
    "Use SymPy's `diff` to differentiate the expression for $J$ with respect to $w$. Note the result matches our earlier example."
   ],
   "id": "c078d0ef79177b56"
  },
  {
   "cell_type": "code",
   "metadata": {
    "ExecuteTime": {
     "end_time": "2024-11-17T15:24:45.944194Z",
     "start_time": "2024-11-17T15:24:45.933189Z"
    }
   },
   "source": [
    "dJ_dw = diff(J,w)\n",
    "dJ_dw"
   ],
   "id": "f82551a853d7162a",
   "outputs": [
    {
     "data": {
      "text/plain": [
       "2*w"
      ],
      "text/latex": "$\\displaystyle 2 w$"
     },
     "execution_count": 32,
     "metadata": {},
     "output_type": "execute_result"
    }
   ],
   "execution_count": 32
  },
  {
   "cell_type": "markdown",
   "metadata": {},
   "source": [
    "Evaluate the derivative at a few points by 'substituting' numeric values for the symbolic values. In the first example, $w$ is replaced by $2$."
   ],
   "id": "2115e06aab749f2b"
  },
  {
   "cell_type": "code",
   "metadata": {
    "ExecuteTime": {
     "end_time": "2024-11-17T15:24:45.976196Z",
     "start_time": "2024-11-17T15:24:45.962191Z"
    }
   },
   "source": [
    "dJ_dw.subs([(w,2)])    # derivative at the point w = 2"
   ],
   "id": "ff6d4c9ba88cfb9",
   "outputs": [
    {
     "data": {
      "text/plain": [
       "4"
      ],
      "text/latex": "$\\displaystyle 4$"
     },
     "execution_count": 33,
     "metadata": {},
     "output_type": "execute_result"
    }
   ],
   "execution_count": 33
  },
  {
   "cell_type": "code",
   "metadata": {
    "scrolled": true,
    "ExecuteTime": {
     "end_time": "2024-11-17T15:24:46.007195Z",
     "start_time": "2024-11-17T15:24:45.994188Z"
    }
   },
   "source": [
    "dJ_dw.subs([(w,3)])    # derivative at the point w = 3"
   ],
   "id": "cd20fe3829fdf983",
   "outputs": [
    {
     "data": {
      "text/plain": [
       "6"
      ],
      "text/latex": "$\\displaystyle 6$"
     },
     "execution_count": 34,
     "metadata": {},
     "output_type": "execute_result"
    }
   ],
   "execution_count": 34
  },
  {
   "cell_type": "code",
   "metadata": {
    "ExecuteTime": {
     "end_time": "2024-11-17T15:24:46.037446Z",
     "start_time": "2024-11-17T15:24:46.024435Z"
    }
   },
   "source": [
    "dJ_dw.subs([(w,-3)])    # derivative at the point w = -3"
   ],
   "id": "e95290f43c34ed7c",
   "outputs": [
    {
     "data": {
      "text/plain": [
       "-6"
      ],
      "text/latex": "$\\displaystyle -6$"
     },
     "execution_count": 35,
     "metadata": {},
     "output_type": "execute_result"
    }
   ],
   "execution_count": 35
  },
  {
   "cell_type": "markdown",
   "metadata": {},
   "source": [
    "## $J = 2w$"
   ],
   "id": "6968193ed6ee58aa"
  },
  {
   "cell_type": "code",
   "metadata": {
    "tags": [],
    "ExecuteTime": {
     "end_time": "2024-11-17T15:24:46.068434Z",
     "start_time": "2024-11-17T15:24:46.054435Z"
    }
   },
   "source": [
    "w, J = symbols('w, J')"
   ],
   "id": "737f987abbef48d0",
   "outputs": [],
   "execution_count": 36
  },
  {
   "cell_type": "code",
   "metadata": {
    "ExecuteTime": {
     "end_time": "2024-11-17T15:24:46.098444Z",
     "start_time": "2024-11-17T15:24:46.085460Z"
    }
   },
   "source": [
    "J = 2 * w\n",
    "J"
   ],
   "id": "869bb2a5d50a11c2",
   "outputs": [
    {
     "data": {
      "text/plain": [
       "2*w"
      ],
      "text/latex": "$\\displaystyle 2 w$"
     },
     "execution_count": 37,
     "metadata": {},
     "output_type": "execute_result"
    }
   ],
   "execution_count": 37
  },
  {
   "cell_type": "code",
   "metadata": {
    "tags": [],
    "ExecuteTime": {
     "end_time": "2024-11-17T15:24:46.130439Z",
     "start_time": "2024-11-17T15:24:46.115438Z"
    }
   },
   "source": [
    "dJ_dw = diff(J,w)\n",
    "dJ_dw"
   ],
   "id": "d920822419773906",
   "outputs": [
    {
     "data": {
      "text/plain": [
       "2"
      ],
      "text/latex": "$\\displaystyle 2$"
     },
     "execution_count": 38,
     "metadata": {},
     "output_type": "execute_result"
    }
   ],
   "execution_count": 38
  },
  {
   "cell_type": "code",
   "metadata": {
    "ExecuteTime": {
     "end_time": "2024-11-17T15:24:46.160438Z",
     "start_time": "2024-11-17T15:24:46.147437Z"
    }
   },
   "source": [
    "dJ_dw.subs([(w,-3)])    # derivative at the point w = -3"
   ],
   "id": "5cdbad2dbf6ac8fd",
   "outputs": [
    {
     "data": {
      "text/plain": [
       "2"
      ],
      "text/latex": "$\\displaystyle 2$"
     },
     "execution_count": 39,
     "metadata": {},
     "output_type": "execute_result"
    }
   ],
   "execution_count": 39
  },
  {
   "cell_type": "markdown",
   "metadata": {},
   "source": [
    "Compare this with the arithmetic calculation"
   ],
   "id": "b022339e2f4fe0c5"
  },
  {
   "cell_type": "code",
   "metadata": {
    "ExecuteTime": {
     "end_time": "2024-11-17T15:24:46.192436Z",
     "start_time": "2024-11-17T15:24:46.179440Z"
    }
   },
   "source": [
    "J = 2*3\n",
    "J_epsilon = 2*(3 + 0.001)\n",
    "k = (J_epsilon - J)/0.001\n",
    "print(f\"J = {J}, J_epsilon = {J_epsilon}, dJ_dw ~= k = {k} \")"
   ],
   "id": "19ab9416fa3cb368",
   "outputs": [
    {
     "name": "stdout",
     "output_type": "stream",
     "text": [
      "J = 6, J_epsilon = 6.002, dJ_dw ~= k = 1.9999999999997797 \n"
     ]
    }
   ],
   "execution_count": 40
  },
  {
   "cell_type": "markdown",
   "metadata": {},
   "source": [
    "For the function $J=2w$, it is easy to see that any change in $w$ will result in 2 times that amount of change in the output $J$, regardless of the starting value of $w$. Our NumPy and arithmetic results confirm this. "
   ],
   "id": "4d02cb4b990f7d9a"
  },
  {
   "cell_type": "markdown",
   "metadata": {},
   "source": [
    "## $J = w^3$"
   ],
   "id": "4c34840c2e003e58"
  },
  {
   "cell_type": "code",
   "metadata": {
    "ExecuteTime": {
     "end_time": "2024-11-17T15:24:46.223585Z",
     "start_time": "2024-11-17T15:24:46.211584Z"
    }
   },
   "source": [
    "J, w = symbols('J, w')"
   ],
   "id": "3671505fec95620",
   "outputs": [],
   "execution_count": 41
  },
  {
   "cell_type": "code",
   "metadata": {
    "ExecuteTime": {
     "end_time": "2024-11-17T15:24:46.253583Z",
     "start_time": "2024-11-17T15:24:46.240582Z"
    }
   },
   "source": [
    "J=w**3\n",
    "J"
   ],
   "id": "5e37ab8e7121286e",
   "outputs": [
    {
     "data": {
      "text/plain": [
       "w**3"
      ],
      "text/latex": "$\\displaystyle w^{3}$"
     },
     "execution_count": 42,
     "metadata": {},
     "output_type": "execute_result"
    }
   ],
   "execution_count": 42
  },
  {
   "cell_type": "code",
   "metadata": {
    "ExecuteTime": {
     "end_time": "2024-11-17T15:24:46.284582Z",
     "start_time": "2024-11-17T15:24:46.274582Z"
    }
   },
   "source": [
    "dJ_dw = diff(J,w)\n",
    "dJ_dw"
   ],
   "id": "1e0e77f29683fbc6",
   "outputs": [
    {
     "data": {
      "text/plain": [
       "3*w**2"
      ],
      "text/latex": "$\\displaystyle 3 w^{2}$"
     },
     "execution_count": 43,
     "metadata": {},
     "output_type": "execute_result"
    }
   ],
   "execution_count": 43
  },
  {
   "cell_type": "code",
   "metadata": {
    "ExecuteTime": {
     "end_time": "2024-11-17T15:24:46.315582Z",
     "start_time": "2024-11-17T15:24:46.302584Z"
    }
   },
   "source": [
    "dJ_dw.subs([(w,2)])   # derivative at the point w=2"
   ],
   "id": "ee37f8c9f5331dfb",
   "outputs": [
    {
     "data": {
      "text/plain": [
       "12"
      ],
      "text/latex": "$\\displaystyle 12$"
     },
     "execution_count": 44,
     "metadata": {},
     "output_type": "execute_result"
    }
   ],
   "execution_count": 44
  },
  {
   "cell_type": "markdown",
   "metadata": {},
   "source": [
    "Compare this with the arithmetic calculation"
   ],
   "id": "5883dfb630113b2b"
  },
  {
   "cell_type": "code",
   "metadata": {
    "ExecuteTime": {
     "end_time": "2024-11-17T15:24:46.346587Z",
     "start_time": "2024-11-17T15:24:46.333582Z"
    }
   },
   "source": [
    "J = (2)**3\n",
    "J_epsilon = (2+0.001)**3\n",
    "k = (J_epsilon - J)/0.001\n",
    "print(f\"J = {J}, J_epsilon = {J_epsilon}, dJ_dw ~= k = {k} \")"
   ],
   "id": "439d55368b29e29c",
   "outputs": [
    {
     "name": "stdout",
     "output_type": "stream",
     "text": [
      "J = 8, J_epsilon = 8.012006000999998, dJ_dw ~= k = 12.006000999997823 \n"
     ]
    }
   ],
   "execution_count": 45
  },
  {
   "cell_type": "markdown",
   "metadata": {},
   "source": [
    "## $J = \\frac{1}{w}$"
   ],
   "id": "ebfccd55188bce35"
  },
  {
   "cell_type": "code",
   "metadata": {
    "ExecuteTime": {
     "end_time": "2024-11-17T15:24:46.376584Z",
     "start_time": "2024-11-17T15:24:46.371583Z"
    }
   },
   "source": [
    "J, w = symbols('J, w')"
   ],
   "id": "a2eaa33e69fddc74",
   "outputs": [],
   "execution_count": 46
  },
  {
   "cell_type": "code",
   "metadata": {
    "ExecuteTime": {
     "end_time": "2024-11-17T15:24:46.453697Z",
     "start_time": "2024-11-17T15:24:46.440700Z"
    }
   },
   "source": [
    "J= 1/w\n",
    "J"
   ],
   "id": "adffe0aa88b8a752",
   "outputs": [
    {
     "data": {
      "text/plain": [
       "1/w"
      ],
      "text/latex": "$\\displaystyle \\frac{1}{w}$"
     },
     "execution_count": 47,
     "metadata": {},
     "output_type": "execute_result"
    }
   ],
   "execution_count": 47
  },
  {
   "cell_type": "code",
   "metadata": {
    "ExecuteTime": {
     "end_time": "2024-11-17T15:24:46.500695Z",
     "start_time": "2024-11-17T15:24:46.478696Z"
    }
   },
   "source": [
    "dJ_dw = diff(J,w)\n",
    "dJ_dw"
   ],
   "id": "203b2cc507c8a3c9",
   "outputs": [
    {
     "data": {
      "text/plain": [
       "-1/w**2"
      ],
      "text/latex": "$\\displaystyle - \\frac{1}{w^{2}}$"
     },
     "execution_count": 48,
     "metadata": {},
     "output_type": "execute_result"
    }
   ],
   "execution_count": 48
  },
  {
   "cell_type": "code",
   "metadata": {
    "ExecuteTime": {
     "end_time": "2024-11-17T15:24:46.547777Z",
     "start_time": "2024-11-17T15:24:46.521695Z"
    }
   },
   "source": [
    "dJ_dw.subs([(w,2)])"
   ],
   "id": "80c3a7a4cd002159",
   "outputs": [
    {
     "data": {
      "text/plain": [
       "-1/4"
      ],
      "text/latex": "$\\displaystyle - \\frac{1}{4}$"
     },
     "execution_count": 49,
     "metadata": {},
     "output_type": "execute_result"
    }
   ],
   "execution_count": 49
  },
  {
   "cell_type": "markdown",
   "metadata": {},
   "source": [
    "Compare this with the arithmetic calculation"
   ],
   "id": "18c7e4ca8089e0f5"
  },
  {
   "cell_type": "code",
   "metadata": {
    "ExecuteTime": {
     "end_time": "2024-11-17T15:24:46.579776Z",
     "start_time": "2024-11-17T15:24:46.565782Z"
    }
   },
   "source": [
    "J = 1/2\n",
    "J_epsilon = 1/(2+0.001)\n",
    "k = (J_epsilon - J)/0.001\n",
    "print(f\"J = {J}, J_epsilon = {J_epsilon}, dJ_dw ~= k = {k} \")"
   ],
   "id": "c5f4271ba5aa88c3",
   "outputs": [
    {
     "name": "stdout",
     "output_type": "stream",
     "text": [
      "J = 0.5, J_epsilon = 0.49975012493753124, dJ_dw ~= k = -0.2498750624687629 \n"
     ]
    }
   ],
   "execution_count": 50
  },
  {
   "cell_type": "markdown",
   "metadata": {},
   "source": [
    "## $J = \\frac{1}{w^2}$"
   ],
   "id": "96d760ac222a90ea"
  },
  {
   "cell_type": "code",
   "metadata": {
    "ExecuteTime": {
     "end_time": "2024-11-17T15:24:46.609776Z",
     "start_time": "2024-11-17T15:24:46.597777Z"
    }
   },
   "source": [
    "J, w = symbols('J, w')"
   ],
   "id": "90239f66a8b5533a",
   "outputs": [],
   "execution_count": 51
  },
  {
   "cell_type": "markdown",
   "metadata": {},
   "source": [
    "If you have time, try to repeat the above steps on the function  $J = \\frac{1}{w^2}$ and evaluate at w=4"
   ],
   "id": "10681fec7ad45650"
  },
  {
   "metadata": {},
   "cell_type": "markdown",
   "source": "Compare this with the arithmetic calculation",
   "id": "8330a72929f30b68"
  },
  {
   "cell_type": "code",
   "metadata": {
    "ExecuteTime": {
     "end_time": "2024-11-17T15:24:46.639780Z",
     "start_time": "2024-11-17T15:24:46.626778Z"
    }
   },
   "source": [
    "J = 1/4**2\n",
    "J_epsilon = 1/(4+0.001)**2\n",
    "k = (J_epsilon - J)/0.001\n",
    "print(f\"J = {J}, J_epsilon = {J_epsilon}, dJ_dw ~= k = {k} \")"
   ],
   "id": "6fd44b8c280fa865",
   "outputs": [
    {
     "name": "stdout",
     "output_type": "stream",
     "text": [
      "J = 0.0625, J_epsilon = 0.06246876171484496, dJ_dw ~= k = -0.031238285155041345 \n"
     ]
    }
   ],
   "execution_count": 52
  },
  {
   "cell_type": "markdown",
   "metadata": {},
   "source": [
    "<details>\n",
    "  <summary><font size=\"3\" color=\"darkgreen\"><b>Click for hints</b></font></summary>\n",
    "    \n",
    "```python \n",
    "J= 1/w**2\n",
    "dJ_dw = diff(J,w)\n",
    "dJ_dw.subs([(w,4)])\n",
    "```\n",
    "  \n",
    "\n",
    "</details>\n",
    "\n",
    "    \n"
   ],
   "id": "cd98f433dea40ee0"
  },
  {
   "cell_type": "markdown",
   "metadata": {},
   "source": [
    "## Congratulations!\n",
    "If you have run through the above examples, you understand a derivative describes the change in the output of a function that is a result of a small change in an input to that function. You also can use *SymPy* in python to find the symbolic derivative of functions."
   ],
   "id": "991e96a9fef68fa0"
  }
 ],
 "metadata": {
  "kernelspec": {
   "display_name": "Python 3",
   "language": "python",
   "name": "python3"
  },
  "language_info": {
   "codemirror_mode": {
    "name": "ipython",
    "version": 3
   },
   "file_extension": ".py",
   "mimetype": "text/x-python",
   "name": "python",
   "nbconvert_exporter": "python",
   "pygments_lexer": "ipython3",
   "version": "3.9.10"
  }
 },
 "nbformat": 4,
 "nbformat_minor": 5
}
