{
 "cells": [
  {
   "cell_type": "markdown",
   "metadata": {},
   "source": [
    "**Jupyter notebook**: Place your cursor in each In field and press Shift-Enter to execute it.\n"
   ]
  },
  {
   "cell_type": "code",
   "execution_count": 1,
   "metadata": {
    "autorun": true,
    "init_cell": true,
    "jupyter": {
     "source_hidden": true
    }
   },
   "outputs": [
    {
     "name": "stdout",
     "output_type": "stream",
     "text": [
      "\"Initializing variables\"\n",
      "\"Loaded Weather CSV\"\n",
      "\"Loaded Taxi Trips partitioned DB\"\n",
      "\"Defining exercise results\"\n",
      "\"Ready\"\n"
     ]
    }
   ],
   "source": [
    "system\"cd \",getenv[`HOME],\"/course-introductory-workshop\"\n",
    ".trn.nbdir:system\"cd\"\n",
    "\\l scripts/loaddata.q"
   ]
  },
  {
   "cell_type": "markdown",
   "metadata": {},
   "source": [
    "**Learning objectives** \n",
    "\n",
    "To understand:\n",
    "* How to construct a qSQL query\n",
    "* How to assign a variable\n",
    "* Useful inbuilt aggregations \n",
    "* Grouping with by\n",
    "* Using `fby` to avoid nested queries\n",
    "* Updating existing data \n",
    "* Temporal arithmetic "
   ]
  },
  {
   "cell_type": "markdown",
   "metadata": {},
   "source": [
    "# Data overview\n",
    "\n",
    "The taxi database details cab fares in New York City. The data was provided from the\n",
    "[NYC Taxi & Limousine Commission](https://www1.nyc.gov/site/tlc/about/tlc-trip-record-data.page).\n",
    "\n",
    "The database we have loaded contains trip data starting at January 1st, 2009 until March 31st, 2009. The\n",
    "database contains 6.9 million records and occupies 6Gb on disk with no compression. \n",
    "\n",
    "The taxi database is stored in a table called `trips`. To supplement the data, there is an additional New York City weather dataset called `weather`. This data was collected by the  [National Oceanic and Atmospheric Administration](https://www.noaa.gov) and distributed by the \n",
    "[National Climate and Data Center](https://www.ncdc.noaa.gov). The weather dataset contains daily\n",
    "summaries for January 2009 from 187 distinct weather stations surrounding New York City."
   ]
  },
  {
   "cell_type": "markdown",
   "metadata": {},
   "source": [
    "# Data exploration"
   ]
  },
  {
   "cell_type": "markdown",
   "metadata": {},
   "source": [
    "Tables form the core of Kx technology. Here we will go through how to access tables and examine their contents.\n",
    "\n",
    "See what tables are currently in the database:"
   ]
  },
  {
   "cell_type": "code",
   "execution_count": 2,
   "metadata": {},
   "outputs": [
    {
     "data": {
      "text/plain": [
       "`smalltrips`trips`weather\n"
      ]
     },
     "execution_count": 2,
     "metadata": {},
     "output_type": "execute_result"
    }
   ],
   "source": [
    "tables[]"
   ]
  },
  {
   "cell_type": "markdown",
   "metadata": {},
   "source": [
    "Inspect a table by typing its name."
   ]
  },
  {
   "cell_type": "code",
   "execution_count": 3,
   "metadata": {},
   "outputs": [
    {
     "data": {
      "text/plain": [
       "date       month   vendor pickup_time                   dropoff_time         ..\n",
       "-----------------------------------------------------------------------------..\n",
       "2009.01.01 2009.01 CMT    2009.01.01D00:00:00.000000000 2009.01.01D00:04:12.0..\n",
       "2009.01.01 2009.01 CMT    2009.01.01D00:00:00.000000000 2009.01.01D00:05:03.0..\n",
       "2009.01.01 2009.01 CMT    2009.01.01D00:00:02.000000000 2009.01.01D00:05:40.0..\n",
       "2009.01.01 2009.01 CMT    2009.01.01D00:00:04.000000000 2009.01.01D00:03:08.0..\n",
       "2009.01.01 2009.01 CMT    2009.01.01D00:00:07.000000000 2009.01.01D00:19:01.0..\n",
       "2009.01.01 2009.01 CMT    2009.01.01D00:00:09.000000000 2009.01.01D00:05:43.0..\n",
       "2009.01.01 2009.01 CMT    2009.01.01D00:00:10.000000000 2009.01.01D00:05:50.0..\n",
       "2009.01.01 2009.01 CMT    2009.01.01D00:00:13.000000000 2009.01.01D00:15:27.0..\n",
       "2009.01.01 2009.01 DDS    2009.01.01D00:00:15.000000000 2009.01.01D00:01:29.0..\n",
       "2009.01.01 2009.01 CMT    2009.01.01D00:00:16.000000000 2009.01.01D00:12:02.0..\n",
       "2009.01.01 2009.01 CMT    2009.01.01D00:00:17.000000000 2009.01.01D00:22:02.0..\n",
       "2009.01.01 2009.01 CMT    2009.01.01D00:00:21.000000000 2009.01.01D00:18:29.0..\n",
       "2009.01.01 2009.01 CMT    2009.01.01D00:00:23.000000000 2009.01.01D00:15:25.0..\n",
       "2009.01.01 2009.01 CMT    2009.01.01D00:00:25.000000000 2009.01.01D00:13:41.0..\n",
       "2009.01.01 2009.01 CMT    2009.01.01D00:00:27.000000000 2009.01.01D00:27:44.0..\n",
       "2009.01.01 2009.01 CMT    2009.01.01D00:00:27.000000000 2009.01.01D00:09:31.0..\n",
       "2009.01.01 2009.01 CMT    2009.01.01D00:00:27.000000000 2009.01.01D00:04:55.0..\n",
       "2009.01.01 2009.01 CMT    2009.01.01D00:00:28.000000000 2009.01.01D00:11:10.0..\n",
       "2009.01.01 2009.01 CMT    2009.01.01D00:00:29.000000000 2009.01.01D00:19:07.0..\n",
       "2009.01.01 2009.01 DDS    2009.01.01D00:00:29.000000000 2009.01.01D00:27:08.0..\n",
       "..\n"
      ]
     },
     "execution_count": 3,
     "metadata": {},
     "output_type": "execute_result"
    }
   ],
   "source": [
    "smalltrips"
   ]
  },
  {
   "cell_type": "markdown",
   "metadata": {},
   "source": [
    "It is very easy to interrogate the kdb+/q process to get information from the process about the size and shape of the tables.\n",
    "\n",
    "We can see how many records are in the table, by using [`count`](https://code.kx.com/q/ref/count).\n",
    "\n",
    "We can also inspect the schema of `trips` with [`meta`](https://code.kx.com/q/ref/meta), obtaining a table of available columns and their types and other information. The following columns are produced:\n",
    "\n",
    "- `c`: column name\n",
    "- `t`: column [type](https://code.kx.com/q/ref/#datatypes)\n",
    "- `f`: [foreign keys](https://code.kx.com/q/wp/foreign-keys/)\n",
    "- `a`: [attributes](https://code.kx.com/q/basics/syntax/#attributes): modifiers applied for performance characteristics"
   ]
  },
  {
   "cell_type": "code",
   "execution_count": 4,
   "metadata": {},
   "outputs": [
    {
     "data": {
      "text/plain": [
       "41859906\n"
      ]
     },
     "execution_count": 4,
     "metadata": {},
     "output_type": "execute_result"
    },
    {
     "data": {
      "text/plain": [
       "c           | t f a\n",
       "------------| -----\n",
       "date        | d    \n",
       "month       | m    \n",
       "vendor      | s    \n",
       "pickup_time | p   s\n",
       "dropoff_time| p    \n",
       "duration    | n    \n",
       "passengers  | i    \n",
       "distance    | f    \n",
       "start_long  | f    \n",
       "start_lat   | f    \n",
       "end_long    | f    \n",
       "end_lat     | f    \n",
       "payment_type| s    \n",
       "fare        | f    \n",
       "surcharge   | e    \n",
       "tip         | f    \n",
       "tolls       | f    \n",
       "total       | f    \n"
      ]
     },
     "execution_count": 4,
     "metadata": {},
     "output_type": "execute_result"
    }
   ],
   "source": [
    "count trips\n",
    "meta trips"
   ]
  },
  {
   "cell_type": "markdown",
   "metadata": {},
   "source": [
    "# qSQL\n",
    "\n",
    "If you have used SQL, you will find the syntax of qSQL queries very similar."
   ]
  },
  {
   "cell_type": "markdown",
   "metadata": {},
   "source": [
    " <img src=\"images/qbies.png\" width=\"50px\" align=\"left\"/><p style='color:#273a6e'><i> Here qSQL is like SQL but does not require a <code>*</code> to select all columns. </i></p> "
   ]
  },
  {
   "cell_type": "code",
   "execution_count": 5,
   "metadata": {},
   "outputs": [
    {
     "data": {
      "text/plain": [
       "date       month   vendor pickup_time                   dropoff_time         ..\n",
       "-----------------------------------------------------------------------------..\n",
       "2009.01.01 2009.01 CMT    2009.01.01D00:00:00.000000000 2009.01.01D00:04:12.0..\n",
       "2009.01.01 2009.01 CMT    2009.01.01D00:00:00.000000000 2009.01.01D00:05:03.0..\n",
       "2009.01.01 2009.01 CMT    2009.01.01D00:00:02.000000000 2009.01.01D00:05:40.0..\n",
       "2009.01.01 2009.01 CMT    2009.01.01D00:00:04.000000000 2009.01.01D00:03:08.0..\n",
       "2009.01.01 2009.01 CMT    2009.01.01D00:00:07.000000000 2009.01.01D00:19:01.0..\n",
       "2009.01.01 2009.01 CMT    2009.01.01D00:00:09.000000000 2009.01.01D00:05:43.0..\n",
       "2009.01.01 2009.01 CMT    2009.01.01D00:00:10.000000000 2009.01.01D00:05:50.0..\n",
       "2009.01.01 2009.01 CMT    2009.01.01D00:00:13.000000000 2009.01.01D00:15:27.0..\n",
       "2009.01.01 2009.01 DDS    2009.01.01D00:00:15.000000000 2009.01.01D00:01:29.0..\n",
       "2009.01.01 2009.01 CMT    2009.01.01D00:00:16.000000000 2009.01.01D00:12:02.0..\n",
       "2009.01.01 2009.01 CMT    2009.01.01D00:00:17.000000000 2009.01.01D00:22:02.0..\n",
       "2009.01.01 2009.01 CMT    2009.01.01D00:00:21.000000000 2009.01.01D00:18:29.0..\n",
       "2009.01.01 2009.01 CMT    2009.01.01D00:00:23.000000000 2009.01.01D00:15:25.0..\n",
       "2009.01.01 2009.01 CMT    2009.01.01D00:00:25.000000000 2009.01.01D00:13:41.0..\n",
       "2009.01.01 2009.01 CMT    2009.01.01D00:00:27.000000000 2009.01.01D00:27:44.0..\n",
       "2009.01.01 2009.01 CMT    2009.01.01D00:00:27.000000000 2009.01.01D00:09:31.0..\n",
       "2009.01.01 2009.01 CMT    2009.01.01D00:00:27.000000000 2009.01.01D00:04:55.0..\n",
       "2009.01.01 2009.01 CMT    2009.01.01D00:00:28.000000000 2009.01.01D00:11:10.0..\n",
       "2009.01.01 2009.01 CMT    2009.01.01D00:00:29.000000000 2009.01.01D00:19:07.0..\n",
       "2009.01.01 2009.01 DDS    2009.01.01D00:00:29.000000000 2009.01.01D00:27:08.0..\n",
       "..\n"
      ]
     },
     "execution_count": 5,
     "metadata": {},
     "output_type": "execute_result"
    }
   ],
   "source": [
    "select from smalltrips"
   ]
  },
  {
   "cell_type": "markdown",
   "metadata": {},
   "source": [
    "Get the `vendor`, `pickup_time` and `fare` columns from the entire table."
   ]
  },
  {
   "cell_type": "code",
   "execution_count": 6,
   "metadata": {},
   "outputs": [
    {
     "data": {
      "text/plain": [
       "vendor pickup_time                   fare\n",
       "-----------------------------------------\n",
       "CMT    2009.01.01D00:00:00.000000000 5.8 \n",
       "CMT    2009.01.01D00:00:00.000000000 5.4 \n",
       "CMT    2009.01.01D00:00:02.000000000 5.8 \n",
       "CMT    2009.01.01D00:00:04.000000000 4.6 \n",
       "CMT    2009.01.01D00:00:07.000000000 27.8\n",
       "CMT    2009.01.01D00:00:09.000000000 5.8 \n",
       "CMT    2009.01.01D00:00:10.000000000 5.8 \n",
       "CMT    2009.01.01D00:00:13.000000000 10.6\n",
       "DDS    2009.01.01D00:00:15.000000000 2.9 \n",
       "CMT    2009.01.01D00:00:16.000000000 11.8\n",
       "CMT    2009.01.01D00:00:17.000000000 20.2\n",
       "CMT    2009.01.01D00:00:21.000000000 23.4\n",
       "CMT    2009.01.01D00:00:23.000000000 12.2\n",
       "CMT    2009.01.01D00:00:25.000000000 17.8\n",
       "CMT    2009.01.01D00:00:27.000000000 30.2\n",
       "CMT    2009.01.01D00:00:27.000000000 7.4 \n",
       "CMT    2009.01.01D00:00:27.000000000 5.8 \n",
       "CMT    2009.01.01D00:00:28.000000000 9   \n",
       "CMT    2009.01.01D00:00:29.000000000 14.6\n",
       "DDS    2009.01.01D00:00:29.000000000 17.3\n",
       "..\n"
      ]
     },
     "execution_count": 6,
     "metadata": {},
     "output_type": "execute_result"
    }
   ],
   "source": [
    "select vendor, pickup_time, fare from smalltrips"
   ]
  },
  {
   "cell_type": "markdown",
   "metadata": {},
   "source": [
    "The next query extracts a few columns, but also filters on two criteria. Just as in SQL, table results can be filtered by expressions following a `where`. Multiple filter criteria, separated by `,`, are evaluated starting from the left.\n",
    "\n",
    "Get taxi trips from the first day of data where the tip is greater than 20."
   ]
  },
  {
   "cell_type": "markdown",
   "metadata": {},
   "source": [
    " <img src=\"images/qbies.png\" width=\"50px\" align=\"left\"/><p style='color:#273a6e'><i> The first day of data is found by applying aggregation <code>min</code> to the <code>date</code> column, and selecting dates equal to it. <br><br> Q has many aggregations. We shall encounter more later. </i></p> "
   ]
  },
  {
   "cell_type": "code",
   "execution_count": 7,
   "metadata": {},
   "outputs": [
    {
     "data": {
      "text/plain": [
       "date       month   vendor passengers fare tip  \n",
       "-----------------------------------------------\n",
       "2009.01.01 2009.01 DDS    1          33.3 33.8 \n",
       "2009.01.01 2009.01 CMT    2          77.4 30   \n",
       "2009.01.01 2009.01 CMT    1          47   95.45\n",
       "2009.01.01 2009.01 CMT    1          112  23.6 \n",
       "2009.01.01 2009.01 CMT    1          41.4 40   \n",
       "2009.01.01 2009.01 CMT    2          26.2 36.23\n",
       "2009.01.01 2009.01 CMT    3          27.4 20.8 \n",
       "2009.01.01 2009.01 CMT    3          135  25   \n",
       "2009.01.01 2009.01 DDS    4          127  23   \n",
       "2009.01.01 2009.01 CMT    1          11   24.24\n",
       "2009.01.01 2009.01 CMT    4          27.8 24.24\n",
       "2009.01.01 2009.01 CMT    1          120  24   \n",
       "2009.01.01 2009.01 CMT    4          10.6 28.84\n",
       "2009.01.01 2009.01 CMT    1          9    22   \n",
       "2009.01.01 2009.01 CMT    2          15.4 30   \n",
       "2009.01.01 2009.01 CMT    1          24.2 30   \n",
       "2009.01.01 2009.01 CMT    1          13   20.2 \n",
       "2009.01.01 2009.01 CMT    1          45   60   \n",
       "2009.01.01 2009.01 DDS    1          136  27.2 \n",
       "2009.01.01 2009.01 CMT    1          26.6 31.63\n",
       "..\n"
      ]
     },
     "execution_count": 7,
     "metadata": {},
     "output_type": "execute_result"
    }
   ],
   "source": [
    "select date, month, vendor, passengers, fare, tip from trips \n",
    "    where date = min date, tip > 20   "
   ]
  },
  {
   "cell_type": "markdown",
   "metadata": {},
   "source": [
    "**Structure of kdb+ database**"
   ]
  },
  {
   "cell_type": "markdown",
   "metadata": {},
   "source": [
    "<img src=\"images/DbStructure.png\" width=\"600\" height=\"400\">"
   ]
  },
  {
   "cell_type": "markdown",
   "metadata": {
    "reveal": "98jovenap3m",
    "reveal-hidden": true
   },
   "source": [
    "Which query runs faster?\n",
    "\n",
    "+ 1. ```select date, month, vendor, passengers, fare, tip from trips where date = min date, tip > 20```\n",
    "\n",
    "+ 2. ```select date, month, vendor, passengers, fare, tip from trips where tip > 20, date = min date```"
   ]
  },
  {
   "cell_type": "markdown",
   "metadata": {
    "reveal": "98jovenap3m"
   },
   "source": [
    "(1) runs faster. The `trips` table is a partitioned on the `date` column, which is the first filter in the [Where phrase](https://code.kx.com/q/basics/qsql/#where-phrase). Filtering on the partition column value first minimizes the number of directories to read.\n",
    "\n",
    "We can test this theory with the [`\\ts`](https://code.kx.com/q/basics/syscmds/#ts-time-and-space) system command."
   ]
  },
  {
   "cell_type": "code",
   "execution_count": 8,
   "metadata": {
    "reveal": "98jovenap3m"
   },
   "outputs": [
    {
     "data": {
      "text/plain": [
       "29 794720\n"
      ]
     },
     "execution_count": 8,
     "metadata": {},
     "output_type": "execute_result"
    },
    {
     "data": {
      "text/plain": [
       "14022 1724592\n"
      ]
     },
     "execution_count": 8,
     "metadata": {},
     "output_type": "execute_result"
    }
   ],
   "source": [
    "\\ts select date, month, vendor, passengers, fare, tip from trips where date = min date, tip > 20\n",
    "\\ts select date, month, vendor, passengers, fare, tip from trips where tip > 20, date = min date"
   ]
  },
  {
   "cell_type": "markdown",
   "metadata": {},
   "source": [
    "Include calculated columns in the result by assignment in the form `column_name : value`."
   ]
  },
  {
   "cell_type": "code",
   "execution_count": 9,
   "metadata": {},
   "outputs": [
    {
     "data": {
      "text/plain": [
       "duration             total fare tip\n",
       "-----------------------------------\n",
       "0D00:04:12.000000000 5.8   5.8  0  \n",
       "0D00:05:03.000000000 5.4   5.4  0  \n",
       "0D00:05:38.000000000 5.8   5.8  0  \n",
       "0D00:03:04.000000000 4.6   4.6  0  \n",
       "0D00:18:54.000000000 27.8  27.8 0  \n",
       "0D00:05:34.000000000 5.8   5.8  0  \n",
       "0D00:05:40.000000000 5.8   5.8  0  \n",
       "0D00:15:14.000000000 10.6  10.6 0  \n",
       "0D00:01:14.000000000 2.9   2.9  0  \n",
       "0D00:11:46.000000000 11.8  11.8 0  \n",
       "0D00:21:45.000000000 20.2  20.2 0  \n",
       "0D00:18:08.000000000 23.4  23.4 0  \n",
       "0D00:15:02.000000000 12.2  12.2 0  \n",
       "0D00:13:16.000000000 17.8  17.8 0  \n",
       "0D00:27:17.000000000 30.2  30.2 0  \n",
       "0D00:09:04.000000000 7.4   7.4  0  \n",
       "0D00:04:28.000000000 5.8   5.8  0  \n",
       "0D00:10:42.000000000 9     9    0  \n",
       "0D00:18:38.000000000 14.6  14.6 0  \n",
       "0D00:26:39.000000000 17.3  17.3 0  \n",
       "..\n"
      ]
     },
     "execution_count": 9,
     "metadata": {},
     "output_type": "execute_result"
    }
   ],
   "source": [
    "select duration, total: fare + tip, fare, tip from trips"
   ]
  },
  {
   "cell_type": "markdown",
   "metadata": {},
   "source": [
    "A virtual column `i` maps to a record index in the table. A simple aggregation can be obtained by taking the count of this virtual column."
   ]
  },
  {
   "cell_type": "code",
   "execution_count": 10,
   "metadata": {},
   "outputs": [
    {
     "data": {
      "text/plain": [
       "x    \n",
       "-----\n",
       "78198\n"
      ]
     },
     "execution_count": 10,
     "metadata": {},
     "output_type": "execute_result"
    }
   ],
   "source": [
    "select count i from trips where date = min date, passengers = 2"
   ]
  },
  {
   "cell_type": "markdown",
   "metadata": {},
   "source": [
    "Further reading:\n",
    "-   [qSQL syntax](https://code.kx.com/q/basics/qsql/)\n",
    "-   [*Q for Mortals* §9: Queries](https://code.kx.com/q4m3/9_Queries_q-sql/)"
   ]
  },
  {
   "cell_type": "markdown",
   "metadata": {},
   "source": [
    "##### Exercise 1"
   ]
  },
  {
   "cell_type": "markdown",
   "metadata": {
    "reveal": "qt7dhd4o22s",
    "reveal-hidden": true
   },
   "source": [
    "- On the earliest date, how many trips had fewer than two passengers?"
   ]
  },
  {
   "cell_type": "code",
   "execution_count": 11,
   "metadata": {
    "reveal": "qt7dhd4o22s"
   },
   "outputs": [
    {
     "data": {
      "text/plain": [
       "x     \n",
       "------\n",
       "183492\n"
      ]
     },
     "execution_count": 11,
     "metadata": {},
     "output_type": "execute_result"
    }
   ],
   "source": [
    "select count i from trips where date = min date, passengers < 2\n",
    "//alternative way- select count i from trips where date = first date, passengers < 2"
   ]
  },
  {
   "cell_type": "code",
   "execution_count": 12,
   "metadata": {},
   "outputs": [],
   "source": [
    "// Enter your qSQL code here "
   ]
  },
  {
   "cell_type": "code",
   "execution_count": 13,
   "metadata": {},
   "outputs": [
    {
     "data": {
      "text/plain": [
       "x     \n",
       "------\n",
       "183492\n"
      ]
     },
     "execution_count": 13,
     "metadata": {},
     "output_type": "execute_result"
    }
   ],
   "source": [
    "ex1_a[] //check correct output"
   ]
  },
  {
   "cell_type": "markdown",
   "metadata": {
    "reveal": "o5fq5a2388i",
    "reveal-hidden": true
   },
   "source": [
    "- What about the last date?"
   ]
  },
  {
   "cell_type": "code",
   "execution_count": 14,
   "metadata": {
    "reveal": "o5fq5a2388i"
   },
   "outputs": [
    {
     "data": {
      "text/plain": [
       "x     \n",
       "------\n",
       "332941\n"
      ]
     },
     "execution_count": 14,
     "metadata": {},
     "output_type": "execute_result"
    }
   ],
   "source": [
    "select count i from trips where date = max date, passengers < 2\n",
    "//alternative way- select count i from trips where date = last date, passengers < 2"
   ]
  },
  {
   "cell_type": "code",
   "execution_count": 15,
   "metadata": {},
   "outputs": [],
   "source": [
    "// Enter your qSQL code here "
   ]
  },
  {
   "cell_type": "code",
   "execution_count": 16,
   "metadata": {},
   "outputs": [
    {
     "data": {
      "text/plain": [
       "x     \n",
       "------\n",
       "332941\n"
      ]
     },
     "execution_count": 16,
     "metadata": {},
     "output_type": "execute_result"
    }
   ],
   "source": [
    "ex1_b[] //check correct output"
   ]
  },
  {
   "cell_type": "markdown",
   "metadata": {
    "reveal": "scznds8jtmp",
    "reveal-hidden": true
   },
   "source": [
    "##### Exercise 2\n",
    "- Select `payment_type` and `fare` from the trips data for the first date.\n"
   ]
  },
  {
   "cell_type": "code",
   "execution_count": 17,
   "metadata": {
    "reveal": "scznds8jtmp"
   },
   "outputs": [
    {
     "data": {
      "text/plain": [
       "payment_type fare\n",
       "-----------------\n",
       "CASH         5.8 \n",
       "CASH         5.4 \n",
       "CASH         5.8 \n",
       "CASH         4.6 \n",
       "CASH         27.8\n",
       "CASH         5.8 \n",
       "CASH         5.8 \n",
       "CASH         10.6\n",
       "CASH         2.9 \n",
       "CASH         11.8\n",
       "CASH         20.2\n",
       "CASH         23.4\n",
       "CASH         12.2\n",
       "CASH         17.8\n",
       "CASH         30.2\n",
       "CASH         7.4 \n",
       "CASH         5.8 \n",
       "CASH         9   \n",
       "No Charge    14.6\n",
       "CASH         17.3\n",
       "..\n"
      ]
     },
     "execution_count": 17,
     "metadata": {},
     "output_type": "execute_result"
    }
   ],
   "source": [
    "select payment_type, fare from trips where date = min date"
   ]
  },
  {
   "cell_type": "code",
   "execution_count": 18,
   "metadata": {},
   "outputs": [],
   "source": [
    "// Enter your qSQL code here "
   ]
  },
  {
   "cell_type": "code",
   "execution_count": 19,
   "metadata": {},
   "outputs": [
    {
     "data": {
      "text/plain": [
       "payment_type fare\n",
       "-----------------\n",
       "CASH         5.8 \n",
       "CASH         5.4 \n",
       "CASH         5.8 \n",
       "CASH         4.6 \n",
       "CASH         27.8\n",
       "CASH         5.8 \n",
       "CASH         5.8 \n",
       "CASH         10.6\n",
       "CASH         2.9 \n",
       "CASH         11.8\n",
       "CASH         20.2\n",
       "CASH         23.4\n",
       "CASH         12.2\n",
       "CASH         17.8\n",
       "CASH         30.2\n",
       "CASH         7.4 \n",
       "CASH         5.8 \n",
       "CASH         9   \n",
       "No Charge    14.6\n",
       "CASH         17.3\n",
       "..\n"
      ]
     },
     "execution_count": 19,
     "metadata": {},
     "output_type": "execute_result"
    }
   ],
   "source": [
    "ex2[] //check correct output"
   ]
  },
  {
   "cell_type": "markdown",
   "metadata": {},
   "source": [
    "## Assignment\n",
    "\n",
    "When exploring data, storing intermediate results is useful for avoiding repeated work."
   ]
  },
  {
   "cell_type": "markdown",
   "metadata": {},
   "source": [
    " <img src=\"images/qbies.png\" width=\"50px\" align=\"left\"/><p style='color:#273a6e'><i> In q, assignment is denoted by <code>:</code>.<br><br>The equal sign <code>=</code> retains its traditional meaning of testing for equality. </i></p>"
   ]
  },
  {
   "cell_type": "markdown",
   "metadata": {},
   "source": [
    "Create a new variable as follows:\n",
    "\n",
    "```\n",
    "var_name: expression\n",
    "```\n",
    "\n",
    "In order to take a closer look at only the data corresponding to January 2009, we can select the data from trips and store the resulting table in a variable called `jan09`."
   ]
  },
  {
   "cell_type": "code",
   "execution_count": null,
   "metadata": {},
   "outputs": [],
   "source": [
    "// Use keyword 'within' to filter the date\n",
    "jan09:select from trips where date within 2009.01.10 2009.01.31\n",
    "\n",
    "// Check how many records are in the filtered table\n",
    "count jan09"
   ]
  },
  {
   "cell_type": "markdown",
   "metadata": {},
   "source": [
    " <img src=\"images/qbies.png\" width=\"50px\" align=\"left\"/><p style='color:#273a6e'><i> By making this assignment, the new variable <code>jan09</code> is stored in memory. <br><br> This is true whether the source data was also in memory or stored on disk. </i></p>"
   ]
  },
  {
   "cell_type": "markdown",
   "metadata": {
    "reveal": "tesmt7f0f9",
    "reveal-hidden": true
   },
   "source": [
    "##### Exercise 3\n",
    "\n",
    "+ Assign the result of Exercise 2 to a variable called `res2`"
   ]
  },
  {
   "cell_type": "code",
   "execution_count": null,
   "metadata": {
    "reveal": "tesmt7f0f9"
   },
   "outputs": [],
   "source": [
    "res2:select payment_type, fare from trips where date = min date;"
   ]
  },
  {
   "cell_type": "code",
   "execution_count": null,
   "metadata": {},
   "outputs": [],
   "source": [
    "// Enter your qSQL code here "
   ]
  },
  {
   "cell_type": "code",
   "execution_count": null,
   "metadata": {},
   "outputs": [],
   "source": [
    "ex3[] //check correct output"
   ]
  },
  {
   "cell_type": "markdown",
   "metadata": {},
   "source": [
    "## Aggregations\n",
    "\n",
    "With the filtered data in `jan09`, aggregations and other analytics can be run without performing the filter query again. Below is a simple aggregation returning the sum of both the `fare` and `tip` columns. "
   ]
  },
  {
   "cell_type": "code",
   "execution_count": null,
   "metadata": {},
   "outputs": [],
   "source": [
    "select sum fare, sum tip from jan09"
   ]
  },
  {
   "cell_type": "markdown",
   "metadata": {},
   "source": [
    "[`sum`](https://code.kx.com/q/ref/sum/) is one of many built-in aggregations. Other built-in aggregations include, but are not limited to\n",
    "\n",
    "- [`avg`](https://code.kx.com/q/ref/avg/#avg) - average (mean)\n",
    "- [`med`](https://code.kx.com/q/ref/med/) - median\n",
    "- [`min`](https://code.kx.com/q/ref/min/) - minimum value\n",
    "- [`max`](https://code.kx.com/q/ref/max/) - maximum value\n",
    "- [`count`](https://code.kx.com/q/ref/count/) - number of values\n",
    "\n",
    "Reference: [Mathematics and statistics](https://code.kx.com/q/basics/math/)"
   ]
  },
  {
   "cell_type": "markdown",
   "metadata": {
    "reveal": "zc2ai0sobqp",
    "reveal-hidden": true
   },
   "source": [
    "##### Exercise 4\n",
    "- Calculate the minimum and maximum tip from the `jan09` table.\n"
   ]
  },
  {
   "cell_type": "code",
   "execution_count": null,
   "metadata": {
    "reveal": "zc2ai0sobqp"
   },
   "outputs": [],
   "source": [
    "// maximum tip and minimum tip\n",
    "select maxTip:max tip, minTip:min tip from jan09"
   ]
  },
  {
   "cell_type": "code",
   "execution_count": null,
   "metadata": {},
   "outputs": [],
   "source": [
    "// Enter your qSQL code here "
   ]
  },
  {
   "cell_type": "code",
   "execution_count": null,
   "metadata": {},
   "outputs": [],
   "source": [
    "ex4[] //check correct output"
   ]
  },
  {
   "cell_type": "markdown",
   "metadata": {},
   "source": [
    "## Grouping with `by` \n",
    "\n",
    "Unlike SQL, qSQL lets you group and aggregate separately.\n",
    "The easiest way to group similar values together is to use the `by` clause.\n",
    "\n",
    "When used without an aggregation, `by` returns a list of values from the selected column. List types are completely valid types in q, so this fine."
   ]
  },
  {
   "cell_type": "code",
   "execution_count": null,
   "metadata": {},
   "outputs": [],
   "source": [
    "select fare by vendor from jan09"
   ]
  },
  {
   "cell_type": "markdown",
   "metadata": {},
   "source": [
    "To extract some useful insight from the data, grouping is best used with aggregation functions as shown below:"
   ]
  },
  {
   "cell_type": "code",
   "execution_count": null,
   "metadata": {},
   "outputs": [],
   "source": [
    "select sum fare, sum tip by vendor from jan09"
   ]
  },
  {
   "cell_type": "code",
   "execution_count": null,
   "metadata": {},
   "outputs": [],
   "source": [
    "// Get the number of records per day in the filtered table\n",
    "select count i by date from jan09"
   ]
  },
  {
   "cell_type": "markdown",
   "metadata": {
    "reveal": "chtv7m0wevs",
    "reveal-hidden": true
   },
   "source": [
    "##### Exercise 5\n",
    "- What is the biggest tip for each vendor?"
   ]
  },
  {
   "cell_type": "code",
   "execution_count": null,
   "metadata": {
    "reveal": "chtv7m0wevs"
   },
   "outputs": [],
   "source": [
    "select max tip by vendor from jan09"
   ]
  },
  {
   "cell_type": "code",
   "execution_count": null,
   "metadata": {},
   "outputs": [],
   "source": [
    "// Enter your qSQL code here "
   ]
  },
  {
   "cell_type": "code",
   "execution_count": null,
   "metadata": {},
   "outputs": [],
   "source": [
    "ex5[] //check correct output"
   ]
  },
  {
   "cell_type": "markdown",
   "metadata": {
    "reveal": "1p432gpxyffh",
    "reveal-hidden": true
   },
   "source": [
    "##### Exercise 6 \n",
    "- What is the highest tip and average tip per payment_type?"
   ]
  },
  {
   "cell_type": "code",
   "execution_count": null,
   "metadata": {
    "reveal": "1p432gpxyffh"
   },
   "outputs": [],
   "source": [
    "select maxTip:max tip, avgTip:avg tip by payment_type from jan09"
   ]
  },
  {
   "cell_type": "code",
   "execution_count": null,
   "metadata": {},
   "outputs": [],
   "source": [
    "// Enter your qSQL code here "
   ]
  },
  {
   "cell_type": "code",
   "execution_count": null,
   "metadata": {},
   "outputs": [],
   "source": [
    "ex6[] //check correct output"
   ]
  },
  {
   "cell_type": "markdown",
   "metadata": {},
   "source": [
    "## Using `fby` to avoid nested queries\n",
    "\n",
    "Nested queries are commonly required in SQL where filter criteria require aggregations in the context of some other column. For example, getting all records where the ride duration is less than the average for that taxi’s vendor."
   ]
  },
  {
   "cell_type": "markdown",
   "metadata": {},
   "source": [
    "In SQL  we would first get the average duration for each vendor; then perform a query for each duration and vendor:"
   ]
  },
  {
   "cell_type": "code",
   "execution_count": null,
   "metadata": {},
   "outputs": [],
   "source": [
    "// Get the average duration per vendor and save resulting table in a variable\n",
    "resBy: select avgDuration:avg duration by vendor from jan09"
   ]
  },
  {
   "cell_type": "code",
   "execution_count": null,
   "metadata": {},
   "outputs": [],
   "source": [
    "// Using 'lj' to join the average duration column to our table\n",
    "// Don't worry about this now, joins are discussed in a later section\n",
    "select from jan09 lj resBy where duration < avgDuration"
   ]
  },
  {
   "cell_type": "markdown",
   "metadata": {},
   "source": [
    "In q, this can be simply expressed using [`fby`](https://code.kx.com/q/ref/fby/).\n",
    "\n",
    "The syntax of `fby` is `(aggregation;data) fby group`, as query below. Compare the above statement to how it was done without `fby`."
   ]
  },
  {
   "cell_type": "code",
   "execution_count": null,
   "metadata": {},
   "outputs": [],
   "source": [
    "select max fare from jan09 where duration < (avg;duration) fby vendor"
   ]
  },
  {
   "cell_type": "markdown",
   "metadata": {},
   "source": [
    "You can see how much simpler an `fby` clause is compared to the above statements."
   ]
  },
  {
   "cell_type": "markdown",
   "metadata": {},
   "source": [
    "##### Exercise 7 "
   ]
  },
  {
   "cell_type": "markdown",
   "metadata": {
    "reveal": "50ou0gklv8d",
    "reveal-hidden": true
   },
   "source": [
    "- Which payment type produces the highest average tip when only trips with a fare larger than the average for each vendor is considered?"
   ]
  },
  {
   "cell_type": "code",
   "execution_count": null,
   "metadata": {
    "reveal": "50ou0gklv8d"
   },
   "outputs": [],
   "source": [
    "res7a:select avg tip by payment_type from jan09 where fare > (avg;fare) fby vendor;\n",
    "show res7a;\n",
    "select payment_type from res7a where tip = max tip "
   ]
  },
  {
   "cell_type": "code",
   "execution_count": null,
   "metadata": {},
   "outputs": [],
   "source": [
    "// Enter your qSQL code here "
   ]
  },
  {
   "cell_type": "code",
   "execution_count": null,
   "metadata": {},
   "outputs": [],
   "source": [
    "ex7_a[] //check correct output"
   ]
  },
  {
   "cell_type": "markdown",
   "metadata": {
    "reveal": "h8sbos0c2wa",
    "reveal-hidden": true
   },
   "source": [
    "- Which vendor has the largest number of trips when only considering trips shorter than the average duration for each vendor?"
   ]
  },
  {
   "cell_type": "code",
   "execution_count": null,
   "metadata": {
    "reveal": "h8sbos0c2wa"
   },
   "outputs": [],
   "source": [
    "res7b:select count i by vendor from jan09 where duration < (avg;duration) fby vendor;\n",
    "show res7b;\n",
    "select vendor from res7b where x = max x"
   ]
  },
  {
   "cell_type": "code",
   "execution_count": null,
   "metadata": {},
   "outputs": [],
   "source": [
    "// Enter your qSQL code here "
   ]
  },
  {
   "cell_type": "code",
   "execution_count": null,
   "metadata": {},
   "outputs": [],
   "source": [
    "ex7_b[] //check correct output"
   ]
  },
  {
   "cell_type": "markdown",
   "metadata": {},
   "source": [
    "## Updating existing data\n",
    "\n",
    "When exploring, you often need to fix bad data, whether from incorrect entry, incompatible units of measure, or other reasons. \n",
    "\n",
    "If we inspect the data and look at the maximum passengers for each vendor, the maximum number for 2 vendors is 6."
   ]
  },
  {
   "cell_type": "code",
   "execution_count": null,
   "metadata": {},
   "outputs": [],
   "source": [
    "select max passengers by vendor from jan09"
   ]
  },
  {
   "cell_type": "markdown",
   "metadata": {},
   "source": [
    "If the above data is wrong, it can be fixed using `update` to change the data. Below, the passengers column is set to the value `5` in any entry where the passenger count is greater than 5. This is then assigned back to `jan09`."
   ]
  },
  {
   "cell_type": "code",
   "execution_count": null,
   "metadata": {},
   "outputs": [],
   "source": [
    "// Find all records where the number of passengers is greater than 5\n",
    "select from jan09 where passengers > 5"
   ]
  },
  {
   "cell_type": "code",
   "execution_count": null,
   "metadata": {},
   "outputs": [],
   "source": [
    "// Update maximum number of passengers to be 5 \n",
    "// Save changes by reassigning back to jan09\n",
    "jan09: update passengers: 5 from jan09 where passengers > 5"
   ]
  },
  {
   "cell_type": "code",
   "execution_count": null,
   "metadata": {},
   "outputs": [],
   "source": [
    "jan09"
   ]
  },
  {
   "cell_type": "markdown",
   "metadata": {},
   "source": [
    "Observe below that the maximum passengers reported has now been updated."
   ]
  },
  {
   "cell_type": "code",
   "execution_count": null,
   "metadata": {},
   "outputs": [],
   "source": [
    "select max passengers by vendor from jan09"
   ]
  },
  {
   "cell_type": "markdown",
   "metadata": {},
   "source": [
    "Now that we have updated the table, we can add a column with the weighted average fare per passenger:"
   ]
  },
  {
   "cell_type": "code",
   "execution_count": null,
   "metadata": {},
   "outputs": [],
   "source": [
    "jan09:update wAvgfare:passengers wavg fare from jan09\n",
    "meta jan09 //new column has been added to the end of the table"
   ]
  },
  {
   "cell_type": "markdown",
   "metadata": {},
   "source": [
    "We also see a few trips that didn't take place: no recorded duration. Let’s delete these rows:"
   ]
  },
  {
   "cell_type": "code",
   "execution_count": null,
   "metadata": {},
   "outputs": [],
   "source": [
    "count jan09  //number of records before deleting rows\n",
    "jan09:delete from jan09 where duration=00:00:00.000\n",
    "count jan09  //number of records after deleteing rows "
   ]
  },
  {
   "cell_type": "markdown",
   "metadata": {},
   "source": [
    "## Temporal Arithmetic\n",
    "\n",
    "Q supports several temporal types and arithmetic between them. Writing queries involving time is simple.  \n",
    "\n",
    "See [here](https://code.kx.com/q/ref/#datatypes) for a summary of [`datatypes`](https://code.kx.com/q/ref/#datatypes)\n",
    "\n",
    "The `pickup_time` column in the data has a type of *timestamp*.\n",
    "As an example, we could convert the `pickup_time` values to their `minute` values (including hours and minutes), and group the data based on this time frame."
   ]
  },
  {
   "cell_type": "code",
   "execution_count": null,
   "metadata": {},
   "outputs": [],
   "source": [
    "select pickup_time, pickup_time.second, pickup_time.minute, pickup_time.hh from jan09"
   ]
  },
  {
   "cell_type": "markdown",
   "metadata": {},
   "source": [
    " <img src=\"images/qbies.png\" width=\"50px\" align=\"left\"/><p style='color:#273a6e'><i> The query below returns the total money made each minute by cabs in January. <br><br> Observe the following expression within the query: <code>sum fare + tip</code> </i></p>"
   ]
  },
  {
   "cell_type": "markdown",
   "metadata": {},
   "source": [
    "This expression highlights an important feature of q syntax: **evaluation is from right-to-left**. The argument of `sum` is everything to its right, that is `fare` plus `tip. This simple rule holds everywhere; there are no priorities to remember."
   ]
  },
  {
   "cell_type": "code",
   "execution_count": null,
   "metadata": {},
   "outputs": [],
   "source": [
    "select total:sum fare + tip by pickup_time.minute from jan09"
   ]
  },
  {
   "cell_type": "code",
   "execution_count": null,
   "metadata": {},
   "outputs": [],
   "source": [
    "select total:(sum fare) + tip by pickup_time.minute from jan09 "
   ]
  },
  {
   "cell_type": "markdown",
   "metadata": {},
   "source": [
    "Aggregate further on time by using `xbar` to bucket the minutes into hours. Group the minutes into 60-unit buckets to produce hours:"
   ]
  },
  {
   "cell_type": "code",
   "execution_count": null,
   "metadata": {},
   "outputs": [],
   "source": [
    "select count i by 60 xbar pickup_time.minute from jan09 where date = 2009.01.10"
   ]
  },
  {
   "cell_type": "markdown",
   "metadata": {
    "reveal": "d9143fdl2tp",
    "reveal-hidden": true
   },
   "source": [
    "##### Exercise 8\n",
    "- Show the largest tip for each 15-minute timespan during the month of January."
   ]
  },
  {
   "cell_type": "code",
   "execution_count": null,
   "metadata": {
    "reveal": "d9143fdl2tp"
   },
   "outputs": [],
   "source": [
    "select max tip by 15 xbar pickup_time.minute from jan09"
   ]
  },
  {
   "cell_type": "code",
   "execution_count": null,
   "metadata": {},
   "outputs": [],
   "source": [
    "// Enter your qSQL code here "
   ]
  },
  {
   "cell_type": "code",
   "execution_count": null,
   "metadata": {},
   "outputs": [],
   "source": [
    "ex8_a[] //check correct output"
   ]
  },
  {
   "cell_type": "markdown",
   "metadata": {
    "reveal": "7t8dwfw9x2m",
    "reveal-hidden": true
   },
   "source": [
    " - Break this information down by vendor."
   ]
  },
  {
   "cell_type": "code",
   "execution_count": null,
   "metadata": {
    "reveal": "7t8dwfw9x2m"
   },
   "outputs": [],
   "source": [
    "select max tip by 15 xbar pickup_time.minute,vendor from jan09"
   ]
  },
  {
   "cell_type": "code",
   "execution_count": null,
   "metadata": {},
   "outputs": [],
   "source": [
    "// Enter your qSQL code here "
   ]
  },
  {
   "cell_type": "code",
   "execution_count": null,
   "metadata": {},
   "outputs": [],
   "source": [
    "ex8_b[] //check correct output"
   ]
  }
 ],
 "metadata": {
  "kernelspec": {
   "display_name": "Q (kdb+)",
   "language": "q",
   "name": "qpk"
  },
  "language_info": {
   "file_extension": ".q",
   "mimetype": "text/x-q",
   "name": "q",
   "version": "4.1.0"
  },
  "latex_envs": {
   "LaTeX_envs_menu_present": true,
   "autoclose": false,
   "autocomplete": true,
   "bibliofile": "biblio.bib",
   "cite_by": "apalike",
   "current_citInitial": 1,
   "eqLabelWithNumbers": true,
   "eqNumInitial": 1,
   "hotkeys": {
    "equation": "Ctrl-E",
    "itemize": "Ctrl-I"
   },
   "labels_anchors": false,
   "latex_user_defs": false,
   "report_style_numbering": false,
   "user_envs_cfg": false
  },
  "toc": {
   "base_numbering": 1,
   "nav_menu": {
    "height": "564px",
    "width": "305px"
   },
   "number_sections": true,
   "sideBar": true,
   "skip_h1_title": false,
   "title_cell": "Table of Contents",
   "title_sidebar": "Contents",
   "toc_cell": false,
   "toc_position": {},
   "toc_section_display": true,
   "toc_window_display": false
  },
  "widgets": {
   "application/vnd.jupyter.widget-state+json": {
    "state": {},
    "version_major": 2,
    "version_minor": 0
   }
  }
 },
 "nbformat": 4,
 "nbformat_minor": 4
}
