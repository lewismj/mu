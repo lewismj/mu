{
 "cells": [
  {
   "cell_type": "code",
   "execution_count": null,
   "metadata": {
    "autorun": true,
    "init_cell": true,
    "jupyter": {
     "source_hidden": true
    }
   },
   "outputs": [],
   "source": [
    "system\"cd \",getenv[`HOME],\"/course-introductory-workshop\"\n",
    ".trn.nbdir:system\"cd\"\n",
    "\\l scripts/loaddata.q"
   ]
  },
  {
   "cell_type": "markdown",
   "metadata": {},
   "source": [
    "**Learning objective**\n",
    "* How to apply a left join\n",
    "* How to apply an as-of join\n",
    "\n",
    "# Joins\n",
    "\n",
    "A join combines data from two tables, or from a table and a dictionary.\n",
    "\n",
    "Some joins are keyed, in that columns in the first argument are matched with the key columns of the second argument.\n",
    "\n",
    "Some joins are as-of, where a time column in the first argument specifies corresponding intervals in a time column of the second argument. Such joins are not keyed.\n",
    "\n",
    "In each case, the result has the merge of columns from both arguments. Where necessary, rows are filled with nulls or zeros. \n",
    "\n",
    "Here is a list of some joins possible using kdb+/q:\n",
    "\n",
    "+ [Left Join](https://code.kx.com/q/ref/lj/)\n",
    "+ [AJ (As-of) Join](https://code.kx.com/q/ref/aj/)\n",
    "\n",
    "In order to demonstrate some common join types we will use data from preloaded table, `weather`,  which corresponds to the same time as our taxi data. In this case we will load some weather data and try and get some insight in how this affected taxi journeys around this period."
   ]
  },
  {
   "cell_type": "code",
   "execution_count": null,
   "metadata": {},
   "outputs": [],
   "source": [
    "// Check number of records in weather and the meta\n",
    "count weather\n",
    "meta weather"
   ]
  },
  {
   "cell_type": "code",
   "execution_count": null,
   "metadata": {},
   "outputs": [],
   "source": [
    "select mindate:min date, maxdate:max date from weather"
   ]
  },
  {
   "cell_type": "markdown",
   "metadata": {
    "solution2": "hidden",
    "solution2_first": true
   },
   "source": [
    "##### Exercise 9\n",
    "- Display the max and min temperatures for NYC each week through January (For this query a week is just every 7 days)"
   ]
  },
  {
   "cell_type": "code",
   "execution_count": null,
   "metadata": {
    "solution2": "hidden"
   },
   "outputs": [],
   "source": [
    "select max maxtemp, min mintemp by 7 xbar date from weather\n",
    "//alternative way- select max maxtemp, min mintemp by date.week from weather"
   ]
  },
  {
    "cell_type": "markdown",
    "metadata": {
     "solution2": "hidden"
    },
    "outputs": [],
    "source": [
        " <img src=\"images/qbies.png\" width=\"50px\" align=\"left\"/><p style='color:#273a6e'><i> Note the difference in start date in the 2 solutions. In kdb+/q when using 7 xbar the date jumps from one Saturday to the next Saturday. This is because kdb+ follows the J2000 international standard starting from 2000.01.01 which happens to be a Saturday. When using date.week the date starts from a Monday as this is the first day of a week in kdb+.  </i></p>"
       ]
  },
  {
   "cell_type": "code",
   "execution_count": null,
   "metadata": {},
   "outputs": [],
   "source": [
    "//Enter your code here "
   ]
  },
  {
   "cell_type": "code",
   "execution_count": null,
   "metadata": {},
   "outputs": [],
   "source": [
    "ex9[] //check correct output"
   ]
  },
  {
   "cell_type": "markdown",
   "metadata": {},
   "source": [
    "We now have two tables of related data, taxi trips and weather data, for each day on which a trip occurred.\n",
    "\n",
    "It would be nice to combine these tables so we could easily ask questions across both data sets.\n",
    "\n",
    "For example, are average trip durations shorter or longer on days with lots of precipitation?"
   ]
  },
  {
   "cell_type": "markdown",
   "metadata": {},
   "source": [
    "## Left Join\n",
    "\n",
    "Like other SQL languages, qSQL supports a number of join operations. Here we will use a left join to create a single table containing both trip and weather data. In kdb+/q the `lj` operator requires one or more common columns between the tables to join across. \n",
    "\n",
    "`t1 lj t2` - [left join](https://code.kx.com/q/ref/lj/)"
   ]
  },
  {
   "cell_type": "markdown",
   "metadata": {},
   "source": [
    "<img src=\"images/LeftJoin.png\" width=\"400\" height=\"200\">"
   ]
  },
  {
   "cell_type": "markdown",
   "metadata": {},
   "source": [
    "For our purpose we will be looking at the daily weather data so we'll use the `date` column, which is in both tables."
   ]
  },
  {
   "cell_type": "code",
   "execution_count": null,
   "metadata": {},
   "outputs": [],
   "source": [
    "// Find the number of trips per day\n",
    "\n",
    "jan09:select from trips where date within 2009.01.01 2009.01.31\n",
    "jan09C:select trips: count i by date from jan09\n",
    "jan09C"
   ]
  },
  {
   "cell_type": "markdown",
   "metadata": {},
   "source": [
    "Looking more closely at `jan09C`, it doesn't look like a normal kdb+ table as there is a vertical line appearing between the columns `date` and `x`. This informs us that this table is actually a **keyed table** which we require to have in most kdb+ joins. But how do we create keyed tables explicitly ? Well, we have two choices:\n",
    "\n",
    "1. Using the syntax above - we can use a by clause \n",
    "2. Using [xkey](https://code.kx.com/q/ref/keys/#xkey) or [!(bang)](https://code.kx.com/q/ref/enkey/)"
   ]
  },
  {
   "cell_type": "code",
   "execution_count": null,
   "metadata": {},
   "outputs": [],
   "source": [
    "`date xkey weather //we are keying on date \n",
    "1!weather          //we are keying on the first column \n",
    "3!weather          //we can key on N number of columns"
   ]
  },
  {
   "cell_type": "markdown",
   "metadata": {},
   "source": [
    "If we want to unkey a keyed table using the `!`: "
   ]
  },
  {
   "cell_type": "code",
   "execution_count": null,
   "metadata": {},
   "outputs": [],
   "source": [
    "0!jan09C     "
   ]
  },
  {
   "cell_type": "markdown",
   "metadata": {},
   "source": [
    "The `lj` operator requires that at least the right hand table argument be keyed. A table can be keyed in a number of ways, however the easiest is to use the [`xkey`](https://code.kx.com/q/ref/keys/#xkey) function"
   ]
  },
  {
   "cell_type": "code",
   "execution_count": null,
   "metadata": {},
   "outputs": [],
   "source": [
    "// select date and precipitation from the weather table\n",
    "// key the result on date\n",
    "// join to the unkeyed table jan09C (0! unkeys the table)\n",
    "jan09W:jan09C lj `date xkey select date, precip from weather \n",
    "jan09W\n",
    "\n",
    "jan09W:jan09C lj select avg precip by date from weather //using the by clause to key"
   ]
  },
  {
   "cell_type": "markdown",
   "metadata": {},
   "source": [
    "Let's check will we get the same result if the left hand table is unkeyed?"
   ]
  },
  {
   "cell_type": "code",
   "execution_count": null,
   "metadata": {},
   "outputs": [],
   "source": [
    "unkeyedJan09C:0!jan09C\n",
    "unkeyedJan09C lj `date xkey select date, precip from weather"
   ]
  },
  {
   "cell_type": "markdown",
   "metadata": {},
   "source": [
    " <img src=\"images/qbies.png\" width=\"50px\" align=\"left\"/><p style='color:#273a6e'><i> The left-hand table can be keyed or unkeyed. The format of the left-hand table will dictate the format of the result table. </i></p> "
   ]
  },
  {
   "cell_type": "markdown",
   "metadata": {},
   "source": [
    "Now we can look at trips vs precipitation"
   ]
  },
  {
   "cell_type": "code",
   "execution_count": null,
   "metadata": {},
   "outputs": [],
   "source": [
    "select date,trips,precip from jan09W"
   ]
  },
  {
   "cell_type": "markdown",
   "metadata": {
    "solution2": "hidden",
    "solution2_first": true
   },
   "source": [
    "##### Exercise 10\n",
    "- Create a new join which joins the number of trips with the average temperature from the weather data, per day for the month of January"
   ]
  },
  {
   "cell_type": "code",
   "execution_count": null,
   "metadata": {
    "solution2": "hidden"
   },
   "outputs": [],
   "source": [
    "jan09C lj `date xkey select date, avgtemp from weather "
   ]
  },
  {
   "cell_type": "code",
   "execution_count": null,
   "metadata": {},
   "outputs": [],
   "source": [
    "//Enter your code here "
   ]
  },
  {
   "cell_type": "code",
   "execution_count": null,
   "metadata": {},
   "outputs": [],
   "source": [
    "ex10[] //check correct output"
   ]
  },
  {
   "cell_type": "markdown",
   "metadata": {},
   "source": [
    "## As-of Join\n",
    "\n",
    "`aj[matching columns;t1;t2]` - [aj join](https://code.kx.com/q/ref/aj/)\n",
    "\n",
    "qSQL also supports time-series joins, a powerful feature not typically found in other databases and languages.\n",
    "\n",
    "Given the data we have, we could ask what were the latest pick-ups for each vendor, as of a particular time.\n",
    "\n",
    "We will create a temporary time table with a minimum date time for each vendor:"
   ]
  },
  {
   "cell_type": "markdown",
   "metadata": {},
   "source": [
    "Let's say there are three reports of individuals who have lost their phone or wallet who were picked up shortly before the time who said how many passengers were in the taxi. Which vendor were they riding with?"
   ]
  },
  {
   "cell_type": "code",
   "execution_count": null,
   "metadata": {},
   "outputs": [],
   "source": [
    "timetab:([] passengers:1 2 3; event_time:2009.01.06D03:30:00+00:30*til 3)\n",
    "timetab"
   ]
  },
  {
   "cell_type": "markdown",
   "metadata": {},
   "source": [
    "Using `aj`, we can look up the table `jan09` to find out what was the last trip taken at each of the times above with those passengers:"
   ]
  },
  {
   "cell_type": "code",
   "execution_count": null,
   "metadata": {},
   "outputs": [],
   "source": [
    "aj[`passengers`event_time;timetab;select passengers, event_time:pickup_time, vendor, pickup_time from jan09]"
   ]
  },
  {
   "cell_type": "markdown",
   "metadata": {},
   "source": [
    "The result is the record for each vendor with the event_time ≤ to the time we specified.\n",
    "- An `aj` join will always select the last record before the specified time."
   ]
  },
  {
   "cell_type": "code",
   "execution_count": null,
   "metadata": {},
   "outputs": [],
   "source": [
    "timetab:([] passengers:1 2 3 4 5 6; event_time:2009.01.06D03:30:00+00:30*til 6)\n",
    "timetab"
   ]
  },
  {
   "cell_type": "markdown",
   "metadata": {},
   "source": [
    "We have created a new timetab table. What will the output as-of join be now?"
   ]
  },
  {
   "cell_type": "code",
   "execution_count": null,
   "metadata": {},
   "outputs": [],
   "source": [
    "aj[`passengers`event_time;timetab;select passengers, event_time:pickup_time, vendor, pickup_time from jan09]"
   ]
  },
  {
   "cell_type": "markdown",
   "metadata": {
    "solution2": "hidden",
    "solution2_first": true
   },
   "source": [
    "##### Exercise 11\n",
    "\n",
    "Find the latest trips as of 09:30 on the 31st of January for each vendor."
   ]
  },
  {
   "cell_type": "code",
   "execution_count": null,
   "metadata": {
    "solution2": "hidden"
   },
   "outputs": [],
   "source": [
    "timetab:([] vendor: `VTS`DDS`CMT; pickup_time:3#2009.01.31D09:30:00)\n",
    "aj[`vendor`pickup_time;timetab;jan09]"
   ]
  },
  {
   "cell_type": "code",
   "execution_count": null,
   "metadata": {},
   "outputs": [],
   "source": [
    "//Enter your code here"
   ]
  },
  {
   "cell_type": "code",
   "execution_count": null,
   "metadata": {},
   "outputs": [],
   "source": [
    "ex11[] //check correct output"
   ]
  }
 ],
 "metadata": {
  "kernelspec": {
   "display_name": "Q (kdb+)",
   "language": "q",
   "name": "qpk"
  },
  "language_info": {
   "file_extension": ".q",
   "mimetype": "text/x-q",
   "name": "q",
   "version": "4.0"
  },
  "toc": {
   "base_numbering": 1,
   "nav_menu": {},
   "number_sections": true,
   "sideBar": true,
   "skip_h1_title": false,
   "title_cell": "Table of Contents",
   "title_sidebar": "Contents",
   "toc_cell": false,
   "toc_position": {},
   "toc_section_display": true,
   "toc_window_display": false
  }
 },
 "nbformat": 4,
 "nbformat_minor": 2
}
