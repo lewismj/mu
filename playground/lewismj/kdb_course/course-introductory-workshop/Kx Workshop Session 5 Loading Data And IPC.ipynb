{
 "cells": [
  {
   "cell_type": "code",
   "execution_count": null,
   "metadata": {
    "autorun": true,
    "init_cell": true,
    "jupyter": {
     "source_hidden": true
    }
   },
   "outputs": [],
   "source": [
    "system\"cd \",getenv[`HOME],\"/course-introductory-workshop\"\n",
    ".trn.nbdir:system\"cd\"\n",
    "\\l scripts/loaddata.q"
   ]
  },
  {
   "cell_type": "markdown",
   "metadata": {},
   "source": [
    "# Loading Data & IPC\n",
    "\n",
    "**Learning objectives**\n",
    "\n",
    "To understand:\n",
    "\n",
    "* Saving and loading CSV files\n",
    "* Saving and loading JSON files\n",
    "* Connecting to a kdb+/q process\n",
    "* Publishing and subscribing to a kdb+/q process"
   ]
  },
  {
   "cell_type": "markdown",
   "metadata": {},
   "source": [
    "## Saving to CSV\n",
    "\n",
    "Sometimes, we may want to export data from kdb+ into csv files. We can achieve this using the `save` function, specifying a *csv* file extension.\n",
    "\n",
    "As we are currently inside the database directory, we will save the file one level up in the directory structure."
   ]
  },
  {
   "cell_type": "code",
   "execution_count": null,
   "metadata": {},
   "outputs": [],
   "source": [
    "summary:0!select num:count i, sum distance by vendor from trips where month = max month \n",
    "save `$\":\",.trn.nbdir,\"/data/summary.csv\""
   ]
  },
  {
   "cell_type": "markdown",
   "metadata": {},
   "source": [
    "You can now see this File in the Jupyter Tree, download it and open it in excel"
   ]
  },
  {
   "cell_type": "markdown",
   "metadata": {},
   "source": [
    "## Loading from CSV\n",
    "\n",
    "We may also want to import data into kdb+ from csv files.\n",
    "\n",
    "To read in a text file, we need to specify the type of each column, along with the delimiter used to separate columns.\n",
    "\n",
    "We can check the types in *summary* using meta."
   ]
  },
  {
   "cell_type": "code",
   "execution_count": null,
   "metadata": {},
   "outputs": [],
   "source": [
    "meta summary"
   ]
  },
  {
   "cell_type": "markdown",
   "metadata": {},
   "source": [
    "We can use this information to load in the csv file to a table as follows"
   ]
  },
  {
   "cell_type": "code",
   "execution_count": null,
   "metadata": {},
   "outputs": [],
   "source": [
    "newsummary:(\"SJF\";enlist csv) 0: `$\":\",.trn.nbdir,\"/data/summary.csv\"\n",
    "newsummary"
   ]
  },
  {
   "cell_type": "code",
   "execution_count": null,
   "metadata": {},
   "outputs": [],
   "source": [
    "meta newsummary"
   ]
  },
  {
   "cell_type": "markdown",
   "metadata": {},
   "source": [
    "## Saving to JSON\n",
    "\n",
    "Data can also be exported from kdb+ into json files.\n",
    "\n",
    "Again, we achieve this using the `save` function. However, we now use a *json* file extension."
   ]
  },
  {
   "cell_type": "code",
   "execution_count": null,
   "metadata": {},
   "outputs": [],
   "source": [
    "save `$\":\",.trn.nbdir,\"/data/summary.json\""
   ]
  },
  {
   "cell_type": "markdown",
   "metadata": {},
   "source": [
    "## Loading from JSON\n",
    "\n",
    "We may also want to import data into kdb+ from json files. We achieve this using the `load` function. \n",
    "\n",
    "Note that this will replace current variable *summary* with the loaded version."
   ]
  },
  {
   "cell_type": "code",
   "execution_count": null,
   "metadata": {},
   "outputs": [],
   "source": [
    "load `$\":\",.trn.nbdir,\"/data/summary.json\"\n",
    "summary"
   ]
  },
  {
   "cell_type": "markdown",
   "metadata": {},
   "source": [
    "Unlike CSV, JSON has some idea of data-types. However, since everything in JSON is either an *number* or a *string*, the `vendor` and `num` columns have changed type."
   ]
  },
  {
   "cell_type": "code",
   "execution_count": null,
   "metadata": {},
   "outputs": [],
   "source": [
    "meta summary"
   ]
  },
  {
   "cell_type": "markdown",
   "metadata": {},
   "source": [
    "We can convert them to *long* and *symbol* respectively, using `update`."
   ]
  },
  {
   "cell_type": "code",
   "execution_count": null,
   "metadata": {},
   "outputs": [],
   "source": [
    "update \"S\"$vendor, \"j\"$num from `summary\n",
    "meta summary"
   ]
  },
  {
   "cell_type": "markdown",
   "metadata": {},
   "source": [
    "# QIPC"
   ]
  },
  {
   "cell_type": "markdown",
   "metadata": {},
   "source": [
    "A kdb+ database is often part of a larger environment, connecting to other processes to send/receive data and queries/results.\n",
    "\n",
    "Communication between processes is managed via tcp/ip.\n",
    "-\ta server process listens for connections on a port, and processes any requests \n",
    "-\ta client process initiates a connection to a server and sends commands to be executed\n",
    "\n",
    "Any q process can act as a client, a server, or both.\n",
    "\n",
    "Communications can be synchronous (wait for a result to be returned) or asynchronous (no wait and no result returned). "
   ]
  },
  {
   "cell_type": "markdown",
   "metadata": {},
   "source": [
    "## Initializing a q server \n",
    "\n",
    "A q server is initialized simply by specifying the port to listen on."
   ]
  },
  {
   "cell_type": "code",
   "execution_count": null,
   "metadata": {},
   "outputs": [],
   "source": [
    "\\p 5000"
   ]
  },
  {
   "cell_type": "markdown",
   "metadata": {},
   "source": [
    "One way to access this kdb+/q server is via a web browser.\n",
    "\n",
    "The environment (variables and tables) can be inspected using\n",
    "* `http://localhost:5000`\n",
    "\n",
    "We can also execute queries directly from the url, for example\n",
    "- `http://localhost:5000/?count trips`\n",
    "- `http://localhost:5000/?select avg tip by vendor from trips`"
   ]
  },
  {
   "cell_type": "markdown",
   "metadata": {},
   "source": [
    "## Running a kdb+/q client \n",
    "\n",
    "We can also connect to a kdb+/q server from a q client.\n",
    "\n",
    "First we will start a server process, listening on port 5001."
   ]
  },
  {
   "cell_type": "code",
   "execution_count": null,
   "metadata": {},
   "outputs": [],
   "source": [
    "system\"nohup q \",.trn.nbdir,\"/scripts/server.q -p 5001 >/dev/null 2>&1 &\""
   ]
  },
  {
   "cell_type": "markdown",
   "metadata": {},
   "source": [
    "Then we will connect using `hopen`."
   ]
  },
  {
   "cell_type": "code",
   "execution_count": null,
   "metadata": {},
   "outputs": [],
   "source": [
    "h:hopen 5001\n",
    "h"
   ]
  },
  {
   "cell_type": "markdown",
   "metadata": {},
   "source": [
    "The result is a *handle*, which we will use to communicate with the server.\n",
    "\n",
    "The simplest way to communicate is to send q commands, as strings, to execute on the server.\n",
    "\n",
    "For example, to get a list of tables."
   ]
  },
  {
   "cell_type": "code",
   "execution_count": null,
   "metadata": {},
   "outputs": [],
   "source": [
    "h\"tables[]\""
   ]
  },
  {
   "cell_type": "markdown",
   "metadata": {},
   "source": [
    "We can then inspect the *populations* table"
   ]
  },
  {
   "cell_type": "code",
   "execution_count": null,
   "metadata": {},
   "outputs": [],
   "source": [
    "h\"populations\""
   ]
  },
  {
   "cell_type": "markdown",
   "metadata": {},
   "source": [
    "and execute queries"
   ]
  },
  {
   "cell_type": "code",
   "execution_count": null,
   "metadata": {},
   "outputs": [],
   "source": [
    "h\"select sum population from populations\" "
   ]
  },
  {
   "cell_type": "markdown",
   "metadata": {},
   "source": [
    "If we do not require a result, we can send an `async` message using the negative handle.\n",
    "\n",
    "For example, to set a variable on the server (with an *async* message)"
   ]
  },
  {
   "cell_type": "code",
   "execution_count": null,
   "metadata": {},
   "outputs": [],
   "source": [
    "neg[h]\"a:123\""
   ]
  },
  {
   "cell_type": "markdown",
   "metadata": {},
   "source": [
    "Which we can then inspect (with a sync message)"
   ]
  },
  {
   "cell_type": "code",
   "execution_count": null,
   "metadata": {},
   "outputs": [],
   "source": [
    "h\"a\""
   ]
  },
  {
   "cell_type": "markdown",
   "metadata": {},
   "source": [
    "## Publishing/Subscribing\n",
    "\n",
    "Async messaging is often used to publish messages to subscriber processes.\n",
    "\n",
    "For an example, we will subscribe to the server process to receive *apprequests* messages (i.e. requests for pickup)."
   ]
  },
  {
   "cell_type": "code",
   "execution_count": null,
   "metadata": {},
   "outputs": [],
   "source": [
    "h\"sub[]\""
   ]
  },
  {
   "cell_type": "markdown",
   "metadata": {},
   "source": [
    "The server will now begin sending us *apprequests* messages, which we can process in the (currently undefined) function `upd`.\n",
    "\n",
    "First we will get the schema from the server and define a local table to store updates"
   ]
  },
  {
   "cell_type": "code",
   "execution_count": null,
   "metadata": {},
   "outputs": [],
   "source": [
    "show apprequests:h\"apprequests\"\n",
    "meta apprequests"
   ]
  },
  {
   "cell_type": "markdown",
   "metadata": {},
   "source": [
    "This table is initially empty"
   ]
  },
  {
   "cell_type": "code",
   "execution_count": null,
   "metadata": {},
   "outputs": [],
   "source": [
    "apprequests"
   ]
  },
  {
   "cell_type": "markdown",
   "metadata": {},
   "source": [
    "But we will define the callback function, `upd`, to handle the incoming updates."
   ]
  },
  {
   "cell_type": "code",
   "execution_count": null,
   "metadata": {},
   "outputs": [],
   "source": [
    "upd:{`apprequests upsert x;}"
   ]
  },
  {
   "cell_type": "markdown",
   "metadata": {},
   "source": [
    "We can then see the `apprequests` table begin to grow"
   ]
  },
  {
   "cell_type": "code",
   "execution_count": null,
   "metadata": {},
   "outputs": [],
   "source": [
    "apprequests"
   ]
  },
  {
   "cell_type": "markdown",
   "metadata": {},
   "source": [
    "We can query the table directly to get the total number of requests per vendor"
   ]
  },
  {
   "cell_type": "code",
   "execution_count": null,
   "metadata": {},
   "outputs": [],
   "source": [
    "select num:count i by vendor from apprequests"
   ]
  },
  {
   "cell_type": "markdown",
   "metadata": {},
   "source": [
    "However, more efficient to aggregate the data on arrival to keep a real-time count.\n",
    "\n",
    "We will first define a table to store results, and then update the `upd` function."
   ]
  },
  {
   "cell_type": "code",
   "execution_count": null,
   "metadata": {},
   "outputs": [],
   "source": [
    "numrequests:select num:count i by vendor from apprequests\n",
    "\n",
    "upd:{\n",
    "  `apprequests upsert x;\n",
    "  numrequests[x`vendor]+:1\n",
    "  }"
   ]
  },
  {
   "cell_type": "code",
   "execution_count": null,
   "metadata": {},
   "outputs": [],
   "source": [
    "numrequests"
   ]
  },
  {
   "cell_type": "markdown",
   "metadata": {},
   "source": [
    "Using the `upd` function above, we can create an alert. Let's say we want to publish an alert if the vendor is for BBB and the longitude is greater than -74.0 so we can inform the driver of their next trip:"
   ]
  },
  {
   "cell_type": "code",
   "execution_count": null,
   "metadata": {},
   "outputs": [],
   "source": [
    "upd:{\n",
    "    .debug.x:x;\n",
    "  `apprequests upsert x;\n",
    "  numrequests[x`vendor]+:1;\n",
    "    if[`BBB = x`vendor;\n",
    "        if[-74.0<x`long;\n",
    "            0N!\"A trip for BBB has arrived at the long of \",string x`long\n",
    "        ]\n",
    "    ];\n",
    "  }"
   ]
  },
  {
   "cell_type": "markdown",
   "metadata": {},
   "source": [
    "This table should now update in real-time as updates arrive. We can also close the connection via the command `hclose`. This will prevent any further updates to the local table, `apprequests` & `numrequests`."
   ]
  },
  {
   "cell_type": "code",
   "execution_count": null,
   "metadata": {},
   "outputs": [],
   "source": [
    "hclose h"
   ]
  },
  {
   "cell_type": "markdown",
   "metadata": {},
   "source": [
    "# KX Introductory Workshop Certification \n",
    "\n",
    "Thank you for attending KX Introductory Workshop in which we hope you learned a lot of new concepts about kdb+/q. \n",
    "\n",
    "You can now close the sandbox and go back to the KX Academy. Remember to leave feedback on the [course homepage](https://learninghub.kx.com/courses/kdb-developer-level-1/) and complete the short quiz to receive the **KX Introductory Workshop Certification**. To receive the certificate, you will need to get 70% in the quiz. "
   ]
  }
 ],
 "metadata": {
  "kernelspec": {
   "display_name": "Q (kdb+)",
   "language": "q",
   "name": "qpk"
  },
  "language_info": {
   "file_extension": ".q",
   "mimetype": "text/x-q",
   "name": "q",
   "version": "3.6.0"
  },
  "toc": {
   "base_numbering": 1,
   "nav_menu": {},
   "number_sections": true,
   "sideBar": true,
   "skip_h1_title": false,
   "title_cell": "Table of Contents",
   "title_sidebar": "Contents",
   "toc_cell": false,
   "toc_position": {},
   "toc_section_display": true,
   "toc_window_display": false
  }
 },
 "nbformat": 4,
 "nbformat_minor": 2
}
