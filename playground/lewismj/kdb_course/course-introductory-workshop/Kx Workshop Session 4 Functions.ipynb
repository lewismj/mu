{
 "cells": [
  {
   "cell_type": "code",
   "execution_count": null,
   "metadata": {
    "autorun": true,
    "init_cell": true,
    "jupyter": {
     "source_hidden": true
    }
   },
   "outputs": [],
   "source": [
    "system\"cd \",getenv[`HOME],\"/course-introductory-workshop\"\n",
    ".trn.nbdir:system\"cd\"\n",
    "\\l scripts/loaddata.q"
   ]
  },
  {
   "cell_type": "markdown",
   "metadata": {},
   "source": [
    "**Learning objectives**\n",
    "\n",
    "To understand:\n",
    "* How to call functions\n",
    "* How to define user defined functions\n",
    "* Creating and applying projections\n",
    "* Iterations \n",
    "\n",
    "## Functions\n",
    "\n",
    "So far we have used built-in functions. Now we introduce user-defined functions."
   ]
  },
  {
   "cell_type": "markdown",
   "metadata": {},
   "source": [
    "### Calling functions\n",
    "\n",
    "Functions are called with the arguments in square brackets `[]`. For example we can call the builtin `max` function on a list like so:"
   ]
  },
  {
   "cell_type": "code",
   "execution_count": null,
   "metadata": {},
   "outputs": [],
   "source": [
    "max[10 11 12]"
   ]
  },
  {
   "cell_type": "markdown",
   "metadata": {},
   "source": [
    "With a unary (single argument) function, we can omit the square brackets. These two lines are equivalent:"
   ]
  },
  {
   "cell_type": "code",
   "execution_count": null,
   "metadata": {},
   "outputs": [],
   "source": [
    "max[10 11 12]  // functional notation\n",
    "max 10 11 12   // infix notation"
   ]
  },
  {
   "cell_type": "markdown",
   "metadata": {},
   "source": [
    "### Defining functions\n",
    "\n",
    "We can define our own [functions](https://code.kx.com/q/basics/function-notation/). \n",
    "\n",
    "Here is a binary (two-argument) function that calculates the speed in km per hour from distance traveled (miles) and duration (hours)."
   ]
  },
  {
   "cell_type": "code",
   "execution_count": null,
   "metadata": {},
   "outputs": [],
   "source": [
    "speed:{[miles;hours]\n",
    " mph:miles%hours;\n",
    " kph:1.609*mph;\n",
    " // return the speed in kph\n",
    " :kph;\n",
    " }"
   ]
  },
  {
   "cell_type": "markdown",
   "metadata": {},
   "source": [
    "Here we refer to `miles` and `hours` as arguments of the `speed` function. `kph` is a local variable we define inside the function. We then [explicitly return](https://code.kx.com/q/basics/function-notation/#explicit-return) it as the function’s result using `:`."
   ]
  },
  {
   "cell_type": "markdown",
   "metadata": {},
   "source": [
    " <img src=\"images/qbies.png\" width=\"50px\" align=\"left\"/><p style='color:#273a6e'><i> A function definition is a list of expressions, separated by semicolons and embraced by curly brackets. Functions can be defined over multiple lines: each line, except for the first one, must start with at least one whitespace character (we recommend two). This includes the line with the closing curly bracket. The arguments listed in the [signature](https://code.kx.com/q/basics/function-notation/#signature) are embraced in square brackets and separated by semicolons. </i></p>"
   ]
  },
  {
   "cell_type": "markdown",
   "metadata": {},
   "source": [
    "An example call to the `speed` function looks like this:"
   ]
  },
  {
   "cell_type": "code",
   "execution_count": null,
   "metadata": {},
   "outputs": [],
   "source": [
    "speed[15;0.5]"
   ]
  },
  {
   "cell_type": "markdown",
   "metadata": {},
   "source": [
    "If there is no [explicit return](https://code.kx.com/q/basics/function-notation/#explicit-return) from a function its result is the result of evaluating the last expression in it. So the code above can be rewritten as "
   ]
  },
  {
   "cell_type": "code",
   "execution_count": null,
   "metadata": {},
   "outputs": [],
   "source": [
    "speed:{[miles;hours]\n",
    " 1.609*miles%hours  // NOTE NO SEMICOLON\n",
    " }\n",
    "speed[15;.5]        // result is unchanges"
   ]
  },
  {
   "cell_type": "markdown",
   "metadata": {},
   "source": [
    "We can also call this function with a list of distances and a corresponding list of durations."
   ]
  },
  {
   "cell_type": "code",
   "execution_count": null,
   "metadata": {},
   "outputs": [],
   "source": [
    "speed[15 30 20;.5 .9 1.0]"
   ]
  },
  {
   "cell_type": "markdown",
   "metadata": {
    "solution2": "hidden",
    "solution2_first": true
   },
   "source": [
    "###### Exercise 19\n",
    "Create the following function: <br>\n",
    "_func_ which is equivalent to the mathematical function: <br>\\begin{equation}\n",
    "res= - \\frac{y(x+1)^2}{(2(x+1))-1}\n",
    "\\end{equation}\n",
    "(What is the minimum number of brackets you have to use?) <br> "
   ]
  },
  {
   "cell_type": "code",
   "execution_count": null,
   "metadata": {
    "solution2": "hidden"
   },
   "outputs": [],
   "source": [
    " //Use [`xexp`](https://code.kx.com/q/ref/exp/) for power and `%` for division;\n",
    "{neg (y*(1+x) xexp 2) %-1+2*1+x}"
   ]
  },
  {
   "cell_type": "code",
   "execution_count": null,
   "metadata": {},
   "outputs": [],
   "source": [
    "// Enter your code here "
   ]
  },
  {
   "cell_type": "code",
   "execution_count": null,
   "metadata": {},
   "outputs": [],
   "source": [
    "ex19[10;5] //check correct output"
   ]
  },
  {
   "cell_type": "markdown",
   "metadata": {},
   "source": [
    "### Explicit and Implicit parameters\n",
    "\n",
    "In the `speed` function above, we have named its arguments. Call these explicit arguments. "
   ]
  },
  {
   "cell_type": "code",
   "execution_count": null,
   "metadata": {},
   "outputs": [],
   "source": [
    "speed:{[miles;hours] //explicit parameters\n",
    " 1.609*miles%hours \n",
    " }"
   ]
  },
  {
   "cell_type": "markdown",
   "metadata": {},
   "source": [
    "When functions have no more than three arguments, their names can be omitted, and `x`,`y`, and `z` used as implicit arguments. So our `speed` function can be written as:"
   ]
  },
  {
   "cell_type": "code",
   "execution_count": null,
   "metadata": {},
   "outputs": [],
   "source": [
    "speed:{1.609*x%y}"
   ]
  },
  {
   "cell_type": "markdown",
   "metadata": {},
   "source": [
    "Here we calculate the speed for two distances for a single duration."
   ]
  },
  {
   "cell_type": "code",
   "execution_count": null,
   "metadata": {},
   "outputs": [],
   "source": [
    "speed[15 30;.5] "
   ]
  },
  {
   "cell_type": "markdown",
   "metadata": {
    "solution2": "hidden",
    "solution2_first": true
   },
   "source": [
    "###### Exercise 20\n",
    "\n",
    "Create a function that will find the area of a rectangle with length 7.93 and width 1.87 using implicit parameters."
   ]
  },
  {
   "cell_type": "code",
   "execution_count": null,
   "metadata": {
    "solution2": "hidden"
   },
   "outputs": [],
   "source": [
    "rectangleArea2:{x*y}  //using implicit parameters\n",
    "rectangleArea2[7.93;1.87] "
   ]
  },
  {
   "cell_type": "code",
   "execution_count": null,
   "metadata": {},
   "outputs": [],
   "source": [
    "// Enter your code here "
   ]
  },
  {
   "cell_type": "code",
   "execution_count": null,
   "metadata": {},
   "outputs": [],
   "source": [
    "ex20[] //check correct output"
   ]
  },
  {
   "cell_type": "markdown",
   "metadata": {},
   "source": [
    "### Call functions from qSQL\n",
    "\n",
    "So far our arguments have been lists and atoms. We can also call functions in qSQL queries.\n"
   ]
  },
  {
   "cell_type": "code",
   "execution_count": null,
   "metadata": {},
   "outputs": [],
   "source": [
    "jan09:select from trips where date within 2009.01.01 2009.01.07\n",
    "select spd:speed[distance;duration % 0D01:00],distance,duration from jan09 where vendor = `VTS"
   ]
  },
  {
   "cell_type": "markdown",
   "metadata": {},
   "source": [
    "This gives us the speed in km/h for each trip in our `jan09` table. We use `duration % 0D01:00` to give us a number of hours as a floating point number from the nanosecond precision duration we have stored in the trips table."
   ]
  },
  {
   "cell_type": "markdown",
   "metadata": {},
   "source": [
    "We can combine our functions, native kdb+/q functions, and qSQL with grouping and aggregation to get an average speed for each vendor in our `jan09` table."
   ]
  },
  {
   "cell_type": "code",
   "execution_count": null,
   "metadata": {},
   "outputs": [],
   "source": [
    "select avgspeed:speed[sum distance;sum[duration]%0D01:00] by vendor from jan09"
   ]
  },
  {
   "cell_type": "markdown",
   "metadata": {},
   "source": [
    "###### Exercise 21"
   ]
  },
  {
   "cell_type": "markdown",
   "metadata": {
    "solution2": "hidden",
    "solution2_first": true
   },
   "source": [
    "- Create a function called `tipOverDistance` that divides explicit argument `x` by argument `y`."
   ]
  },
  {
   "cell_type": "code",
   "execution_count": null,
   "metadata": {
    "solution2": "hidden"
   },
   "outputs": [],
   "source": [
    "tipOverDistance:{[x;y] x%y}  "
   ]
  },
  {
   "cell_type": "code",
   "execution_count": null,
   "metadata": {},
   "outputs": [],
   "source": [
    "//Enter your code here"
   ]
  },
  {
   "cell_type": "code",
   "execution_count": null,
   "metadata": {},
   "outputs": [],
   "source": [
    "ex21_a[3;2] //check correct output"
   ]
  },
  {
   "cell_type": "markdown",
   "metadata": {
    "solution2": "hidden",
    "solution2_first": true
   },
   "source": [
    "- Write a function `createTable` that selects from `jan09` the columns `vendor`, `distance`, and `tip`; and adds a new column from the result of `tipOverDistance` applied to columns `tip` and `distance`.  "
   ]
  },
  {
   "cell_type": "code",
   "execution_count": null,
   "metadata": {
    "solution2": "hidden"
   },
   "outputs": [],
   "source": [
    "createTable:{\n",
    "  select tipPerDist:tipOverDistance[tip;distance], distance, tip, vendor from jan09 where distance > 0\n",
    " }"
   ]
  },
  {
   "cell_type": "code",
   "execution_count": null,
   "metadata": {},
   "outputs": [],
   "source": [
    "//Enter your code here"
   ]
  },
  {
   "cell_type": "code",
   "execution_count": null,
   "metadata": {},
   "outputs": [],
   "source": [
    "ex21_b[] //check correct output"
   ]
  },
  {
   "cell_type": "markdown",
   "metadata": {
    "solution2": "hidden",
    "solution2_first": true
   },
   "source": [
    "- Find the average tip per mile per vendor from the result of `createTable`."
   ]
  },
  {
   "cell_type": "code",
   "execution_count": null,
   "metadata": {
    "solution2": "hidden"
   },
   "outputs": [],
   "source": [
    "select avg tipPerDist, avg distance, avg tip by vendor from createTable[]"
   ]
  },
  {
   "cell_type": "code",
   "execution_count": null,
   "metadata": {},
   "outputs": [],
   "source": [
    "//Enter your code here"
   ]
  },
  {
   "cell_type": "code",
   "execution_count": null,
   "metadata": {},
   "outputs": [],
   "source": [
    "ex21_c[] //check correct output"
   ]
  },
  {
   "cell_type": "markdown",
   "metadata": {},
   "source": [
    "## Iterators\n",
    "\n",
    "Most iteration is handled implicitly by q operators and keywords. Beyond that, we have iterators. An iterator is an operator that modifies how a function is applied.\n",
    "\n",
    "Say we want to add `1 2` to `3 4 5`"
   ]
  },
  {
   "cell_type": "code",
   "execution_count": null,
   "metadata": {},
   "outputs": [],
   "source": [
    "1 2+3 4 5"
   ]
  },
  {
   "cell_type": "markdown",
   "metadata": {},
   "source": [
    "This signals a length error. The Add operator iterates implicitly, but expects its arguments [to be atoms or have matching lengths](https://code.kx.com/q/basics/conformable/). \n",
    "\n",
    "We clearly have something else in mind. Using iterators, we can modify the application of Add to add both vectors together. "
   ]
  },
  {
   "cell_type": "markdown",
   "metadata": {},
   "source": [
    "### Mapping iterators\n",
    "\n",
    "In this instance, we can use:\n",
    "\n",
    "+ [Each-right and Each-left](https://code.kx.com/q/ref/maps/#each-left-and-each-right)  "
   ]
  },
  {
   "cell_type": "markdown",
   "metadata": {},
   "source": [
    "<img src=\"images/eachRighteachLeft.png\" width=\"400\" height=\"200\">"
   ]
  },
  {
   "cell_type": "code",
   "execution_count": null,
   "metadata": {},
   "outputs": [],
   "source": [
    "1 2+\\: 3 4 5 //each left\n",
    "1 2+/: 3 4 5 //each right"
   ]
  },
  {
   "cell_type": "markdown",
   "metadata": {},
   "source": [
    "Each Right and Each Left are both examples of **map iterators**, the simplest kdb+/q iterators. Other map iterators are:\n",
    "* Each\n",
    "* Each Prior\n",
    "\n",
    "Below we have a list of lists, we can use the keyword `count` to see how many items are in the list:"
   ]
  },
  {
   "cell_type": "code",
   "execution_count": null,
   "metadata": {},
   "outputs": [],
   "source": [
    "L:(\"the\";\"quick\";\"brown\";\"fox\")\n",
    "count L"
   ]
  },
  {
   "cell_type": "markdown",
   "metadata": {},
   "source": [
    "The `each` keyword modifies only unary (single argument) functions, as above. To modify a multivalent function, we use the Each operator. Let’s look at the Take operator `#` which gets a subset of the data:  "
   ]
  },
  {
   "cell_type": "code",
   "execution_count": null,
   "metadata": {},
   "outputs": [],
   "source": [
    "count each L\n",
    "type each L //checking the type all element"
   ]
  },
  {
   "cell_type": "markdown",
   "metadata": {},
   "source": [
    "`each` can only modifies monadic functions (1 parameter) as seen above. To modify a multivalent function, we can use `each-both`. Let's look at the function `#` which gets a subset of the data:  "
   ]
  },
  {
   "cell_type": "code",
   "execution_count": null,
   "metadata": {},
   "outputs": [],
   "source": [
    "3#L                               // returned the first three items of the list\n",
    "3#'L                              // returned the first three items of each item"
   ]
  },
  {
   "cell_type": "markdown",
   "metadata": {},
   "source": [
    "Can you predict what `3#''L` returns? Try it."
   ]
  },
  {
   "cell_type": "code",
   "execution_count": null,
   "metadata": {},
   "outputs": [],
   "source": [
    "// Enter your code here "
   ]
  },
  {
   "cell_type": "markdown",
   "metadata": {
    "solution2": "hidden",
    "solution2_first": true
   },
   "source": [
    "###### Exercise 23\n",
    "\n",
    "Create two lists `x: 10 30 20 40, y: 13 34 25 46` and join them item by item, returning a pair of lists (type `0h`)"
   ]
  },
  {
   "cell_type": "code",
   "execution_count": null,
   "metadata": {
    "solution2": "hidden"
   },
   "outputs": [],
   "source": [
    "x: 10 30 20 40\n",
    "y: 13 34 25 46\n",
    "x,'y\n",
    "type x,'y"
   ]
  },
  {
   "cell_type": "code",
   "execution_count": null,
   "metadata": {},
   "outputs": [],
   "source": [
    "//Enter your code here"
   ]
  },
  {
   "cell_type": "code",
   "execution_count": null,
   "metadata": {},
   "outputs": [],
   "source": [
    "ex23[] //check correct output"
   ]
  },
  {
   "cell_type": "markdown",
   "metadata": {},
   "source": [
    "### Accumulating iterators\n",
    "\n",
    "Where map iterators apply a function *across argument items*, the accumulators apply it repeatedly to the results of successive evaluations. The function is first applied to the entire (first) argument; then to the result of that; then to the result of that; and so on. \n",
    "\n",
    "There are two accumulators in q. They both apply a function the same way; but one returns the result of each iteration; the other only the result of the last iteration. The iterators are: \n",
    "+ Scan (\\\\) \n",
    "+ Over (/)"
   ]
  },
  {
   "cell_type": "markdown",
   "metadata": {},
   "source": [
    "<img src=\"images/scanIteration.png\" width=\"500\" height=\"200\">"
   ]
  },
  {
   "cell_type": "code",
   "execution_count": null,
   "metadata": {},
   "outputs": [],
   "source": [
    "N:1 4 7 10                         / numeric list\n",
    "+/[N]                             / sum      (Over)   \n",
    "+\\[N]                             / sum      (Scan)   \n",
    "*/[N]                             / product  (Over)\n",
    "*\\[N]                             / products (Scan)"
   ]
  },
  {
   "cell_type": "markdown",
   "metadata": {},
   "source": [
    "What is the result of `-/[N]`? Try it."
   ]
  },
  {
   "cell_type": "code",
   "execution_count": null,
   "metadata": {},
   "outputs": [],
   "source": [
    "// Enter your Q code here "
   ]
  },
  {
   "cell_type": "markdown",
   "metadata": {},
   "source": [
    "Below are more examples with a different syntax format:\n",
    "\n",
    "``function/[data]``\n",
    "\n",
    "```(function/) data```\n",
    "\n",
    "Both forms are valid; use which you prefer. "
   ]
  },
  {
   "cell_type": "code",
   "execution_count": null,
   "metadata": {},
   "outputs": [],
   "source": [
    "(+/)1 2 3 4 / Add these numbers, fold '+' over the vector; fold is sometimes called reduce or inject\n",
    "(*/)1 2 3 4 / Extends to all functions in the expected way\n",
    "sum 1 2 3 4 / Another way to sum the values, using a built-in function\n",
    "(+\\)1 2 3 4 / Cumulative sums, using scan\n",
    "sums 1 2 3 4 / Same, using the built-in function"
   ]
  },
  {
   "cell_type": "markdown",
   "metadata": {
    "solution2": "hidden",
    "solution2_first": true
   },
   "source": [
    "###### Exercise 24\n",
    "\n",
    "a. Create a new function, add:{x+x}, and iterate this list of integers across it, 3 6 8"
   ]
  },
  {
   "cell_type": "code",
   "execution_count": null,
   "metadata": {
    "solution2": "hidden"
   },
   "outputs": [],
   "source": [
    "//create a new function, add:{x+x}, and iterate this list of integers across it, 3 6 8\n",
    "add:{x+x}\n",
    "add each 3 6 8"
   ]
  },
  {
   "cell_type": "code",
   "execution_count": null,
   "metadata": {},
   "outputs": [],
   "source": [
    "// Enter your code here "
   ]
  },
  {
   "cell_type": "code",
   "execution_count": null,
   "metadata": {},
   "outputs": [],
   "source": [
    "ex24_a[] //check correct output"
   ]
  },
  {
   "cell_type": "markdown",
   "metadata": {
    "solution2": "hidden",
    "solution2_first": true
   },
   "source": [
    "b. Create a new function, add2:{x+y}, and iterate this list of integers across it, (3 6 8;4 7 9) so that the first value of each list is added together"
   ]
  },
  {
   "cell_type": "code",
   "execution_count": null,
   "metadata": {
    "solution2": "hidden"
   },
   "outputs": [],
   "source": [
    "//create a new function, add2:{x+y}, and iterate this list of intergers across \n",
    "//it, (3 6 8;4 7 9) so that the first value of each list is added together\n",
    "add2:{x+y}\n",
    "'[add2][3 6 8;4 7 9]\n",
    "add2'[3 6 8;4 7 9]"
   ]
  },
  {
   "cell_type": "code",
   "execution_count": null,
   "metadata": {},
   "outputs": [],
   "source": [
    "// Enter your code here "
   ]
  },
  {
   "cell_type": "code",
   "execution_count": null,
   "metadata": {},
   "outputs": [],
   "source": [
    "ex24_b[] //check correct output"
   ]
  },
  {
   "cell_type": "markdown",
   "metadata": {
    "solution2": "hidden",
    "solution2_first": true
   },
   "source": [
    "c. Multiply each value in this list, 3 5 4 2, against the value 11. Use both scan and over."
   ]
  },
  {
   "cell_type": "code",
   "execution_count": null,
   "metadata": {
    "solution2": "hidden"
   },
   "outputs": [],
   "source": [
    " //multiply recursively by value in this list, 3 5 4 2, starting with a seed value of 11\n",
    "//using scan \n",
    "{x*y}\\[11;3 5 4 2]\n",
    "//using over \n",
    "{x*y}/[11;3 5 4 2]"
   ]
  },
  {
   "cell_type": "code",
   "execution_count": null,
   "metadata": {},
   "outputs": [],
   "source": [
    "// Enter your code here "
   ]
  },
  {
   "cell_type": "code",
   "execution_count": null,
   "metadata": {},
   "outputs": [],
   "source": [
    "ex24_c[] //check correct output"
   ]
  },
  {
   "cell_type": "markdown",
   "metadata": {
    "solution2": "hidden",
    "solution2_first": true
   },
   "source": [
    "### Bonus Exercise -  Fibonacci sequence\n",
    "\n",
    "Let's work towards generating the first 10 numbers of the Fibonacci sequence\n",
    "\n",
    ">The Fibonacci sequence is defined such that each number is the sum of the two preceding ones, starting from 0 and 1. e.g. the first four numbers in the Fibonacci sequence is: 0 1 1 2\n",
    "\n",
    "Tips:\n",
    "1. Use sum and / (over) and # (take) to generate the Fibonacci numbers\n",
    "2. you will also need to define and use a function\n",
    "3. Start with 0 1\n",
    "4. Use the [Do form of Over](https://code.kx.com/q/ref/accumulators/#do)"
   ]
  },
  {
   "cell_type": "code",
   "execution_count": null,
   "metadata": {
    "solution2": "hidden"
   },
   "outputs": [],
   "source": [
    "exerFib:{{x, sum -2#x}/[x;0 1]}\n",
    "\n",
    "\n",
    "x:0 1\n",
    "sum -2#x\n",
    "x,sum -2#x       / Beginning of Fibonacci sequence\n",
    "{x,sum -2#x} 1 1 / Same, but as an (unnamed) function\n",
    "fib:{x,sum -2#x} / Name it\n",
    "fib/[10;1 1]     / Similar to +/ example earlier, apply the function repeatedly 10 times\n",
    "10 fib/ 1 1      / Another way to invoke the function\n"
   ]
  },
  {
   "cell_type": "code",
   "execution_count": null,
   "metadata": {},
   "outputs": [],
   "source": [
    "// Enter your code here "
   ]
  },
  {
   "cell_type": "code",
   "execution_count": null,
   "metadata": {},
   "outputs": [],
   "source": [
    "exerFib[20] //check correct output"
   ]
  }
 ],
 "metadata": {
  "kernelspec": {
   "display_name": "Q (kdb+)",
   "language": "q",
   "name": "qpk"
  },
  "language_info": {
   "file_extension": ".q",
   "mimetype": "text/x-q",
   "name": "q",
   "version": "4.0"
  },
  "latex_envs": {
   "LaTeX_envs_menu_present": true,
   "autoclose": false,
   "autocomplete": true,
   "bibliofile": "biblio.bib",
   "cite_by": "apalike",
   "current_citInitial": 1,
   "eqLabelWithNumbers": true,
   "eqNumInitial": 1,
   "hotkeys": {
    "equation": "Ctrl-E",
    "itemize": "Ctrl-I"
   },
   "labels_anchors": false,
   "latex_user_defs": false,
   "report_style_numbering": false,
   "user_envs_cfg": false
  },
  "toc": {
   "base_numbering": 1,
   "nav_menu": {},
   "number_sections": true,
   "sideBar": true,
   "skip_h1_title": false,
   "title_cell": "Table of Contents",
   "title_sidebar": "Contents",
   "toc_cell": false,
   "toc_position": {},
   "toc_section_display": true,
   "toc_window_display": false
  }
 },
 "nbformat": 4,
 "nbformat_minor": 2
}
