{
 "cells": [
  {
   "metadata": {},
   "cell_type": "markdown",
   "source": [
    "### xVA calculations\n",
    "Using open source QuantLib (WIP)."
   ],
   "id": "67de908f9f006f01"
  },
  {
   "metadata": {
    "ExecuteTime": {
     "end_time": "2024-11-18T21:21:59.447759Z",
     "start_time": "2024-11-18T21:21:59.096132Z"
    }
   },
   "cell_type": "code",
   "source": [
    "import typing\n",
    "from typing import Literal\n",
    "\n",
    "import polars as pl\n",
    "import numpy as np\n",
    "import scipy as sp\n",
    "from jupyter_server.auth.utils import match_url_to_resource\n"
   ],
   "id": "8259c292389be694",
   "outputs": [],
   "execution_count": 1
  },
  {
   "metadata": {},
   "cell_type": "markdown",
   "source": "Import quantlib & setup a Calendar.",
   "id": "ddef84143e75578f"
  },
  {
   "metadata": {
    "ExecuteTime": {
     "end_time": "2024-11-17T23:09:49.821813Z",
     "start_time": "2024-11-17T23:09:49.804806Z"
    }
   },
   "cell_type": "code",
   "source": [
    "# Create LON,TOR calendar\n",
    "import QuantLib as ql\n",
    "\n",
    "lon = ql.UnitedKingdom()\n",
    "tor = ql.Canada()\n",
    "lon_tor_cal = ql.JointCalendar(lon, tor)\n",
    "\n",
    "# Test, Use Canada Civic Holiday August 4th.\n",
    "# Business day for LON, not a business day for LON or LON, TOR.\n",
    "test_day = ql.Date(4,8,2025)"
   ],
   "id": "22bb157b986cbf85",
   "outputs": [
    {
     "name": "stdout",
     "output_type": "stream",
     "text": [
      "True\n",
      "False\n",
      "False\n"
     ]
    }
   ],
   "execution_count": 14
  },
  {
   "metadata": {},
   "cell_type": "markdown",
   "source": "Functions to create a dummy portfolio of vanilla swaps.",
   "id": "165e51a2830eb21"
  },
  {
   "metadata": {
    "ExecuteTime": {
     "end_time": "2024-11-17T23:16:27.399973Z",
     "start_time": "2024-11-17T23:16:27.375437Z"
    }
   },
   "cell_type": "code",
   "source": [
    "\n",
    "# Note, in QuantLib the Python wrapper is very basic, using Swig (rather than something like NanoBind),\n",
    "# VanillaSwap.Payer/.Receiver etc. should be literals, but function signatures expect integer.\n",
    "\n",
    "def create_vanilla_swap(start_date : ql.Date,\n",
    "                        maturity_date: ql.Date,\n",
    "                        nominal: float,\n",
    "                        floating_leg_index: ql.IborIndex,\n",
    "                        fixed_leg_rate: float,\n",
    "                        fixed_leg_frequency: ql.Period,\n",
    "                        fixed_leg_roll_convention: int,\n",
    "                        fixed_leg_day_count_basis: int,\n",
    "                        calendar: ql.Calendar,\n",
    "                        spread: float,\n",
    "                        swap_type: int) -> ql.VanillaSwap:\n",
    "\n",
    "    end_date = calendar.advance(start_date, maturity_date, fixed_leg_day_count_basis)\n",
    "    pass"
   ],
   "id": "882c002eb572463a",
   "outputs": [],
   "execution_count": 16
  }
 ],
 "metadata": {
  "kernelspec": {
   "display_name": "Python 3",
   "language": "python",
   "name": "python3"
  },
  "language_info": {
   "codemirror_mode": {
    "name": "ipython",
    "version": 2
   },
   "file_extension": ".py",
   "mimetype": "text/x-python",
   "name": "python",
   "nbconvert_exporter": "python",
   "pygments_lexer": "ipython2",
   "version": "2.7.6"
  }
 },
 "nbformat": 4,
 "nbformat_minor": 5
}
